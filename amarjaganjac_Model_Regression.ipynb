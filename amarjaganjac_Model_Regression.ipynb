{
  "nbformat": 4,
  "nbformat_minor": 0,
  "metadata": {
    "colab": {
      "name": "amarjaganjac_Model_Regression.ipynb",
      "provenance": []
    },
    "kernelspec": {
      "name": "python3",
      "display_name": "Python 3"
    },
    "language_info": {
      "name": "python"
    },
    "accelerator": "GPU"
  },
  "cells": [
    {
      "cell_type": "markdown",
      "source": [
        "## Import Library"
      ],
      "metadata": {
        "id": "Aba09r_0LTHR"
      }
    },
    {
      "cell_type": "code",
      "execution_count": 1,
      "metadata": {
        "id": "R5yOBk0uclb0"
      },
      "outputs": [],
      "source": [
        "from google.colab import drive\n",
        "import pandas as pd\n",
        "import numpy as np\n",
        "import tensorflow as tf\n",
        "from sklearn.linear_model import LinearRegression\n",
        "from sklearn.preprocessing import MinMaxScaler\n",
        "from sklearn.model_selection import train_test_split\n",
        "mse = tf.keras.losses.MeanSquaredError() \n",
        "mae = tf.keras.losses.MeanAbsoluteError()\n",
        "np.set_printoptions(precision=5)"
      ]
    },
    {
      "cell_type": "markdown",
      "source": [
        "## Read Dataset"
      ],
      "metadata": {
        "id": "rFGRz8A0LXoz"
      }
    },
    {
      "cell_type": "code",
      "source": [
        "from google.colab import drive\n",
        "drive.mount('/content/drive')"
      ],
      "metadata": {
        "colab": {
          "base_uri": "https://localhost:8080/"
        },
        "id": "VovIFCtoUSGA",
        "outputId": "fce3163e-823f-4e64-e86e-9c614bce3260"
      },
      "execution_count": 2,
      "outputs": [
        {
          "output_type": "stream",
          "name": "stdout",
          "text": [
            "Drive already mounted at /content/drive; to attempt to forcibly remount, call drive.mount(\"/content/drive\", force_remount=True).\n"
          ]
        }
      ]
    },
    {
      "cell_type": "code",
      "source": [
        "data = pd.read_csv(\"/content/drive/MyDrive/ML//2020-9-22--550hours.csv\", index_col=\"datetime\")\n",
        "data.head()"
      ],
      "metadata": {
        "colab": {
          "base_uri": "https://localhost:8080/",
          "height": 556
        },
        "id": "IOO4TXYYJJxF",
        "outputId": "2917c000-f2af-4df9-8e05-df88d6f2202b"
      },
      "execution_count": 3,
      "outputs": [
        {
          "output_type": "execute_result",
          "data": {
            "text/plain": [
              "                     INNDAER 1  AM-LUTVLAS A  BOR VEKT A  DOLOM VEKT A  \\\n",
              "datetime                                                                 \n",
              "2020-09-22 08:56:06   0.781092     26.519396    4.629490      0.015649   \n",
              "2020-09-22 08:56:16   0.780581     26.876701    4.629533      0.015649   \n",
              "2020-09-22 08:56:26   0.780071     26.841930    4.629576      0.015650   \n",
              "2020-09-22 08:56:36   0.779006     26.914482    4.629619      0.015650   \n",
              "2020-09-22 08:56:46   0.779640     26.974942    4.629654      0.015650   \n",
              "\n",
              "                     Kalivekt A  MGO VEKT  NPLUT-INND A  SALTVEKT TT W3401  \\\n",
              "datetime                                                                     \n",
              "2020-09-22 08:56:06    0.635937  0.095390     30.039738          40.477000   \n",
              "2020-09-22 08:56:16    0.644175  0.096653     29.894164          40.478285   \n",
              "2020-09-22 08:56:26    0.652414  0.097916     29.888657          40.479571   \n",
              "2020-09-22 08:56:36    0.660653  0.099179     29.815544          40.480857   \n",
              "2020-09-22 08:56:46    0.667518  0.100231     29.799110          40.481928   \n",
              "\n",
              "                     Turtallsreg. Fuge A  Temperatur mikser A1  ...  \\\n",
              "datetime                                                        ...   \n",
              "2020-09-22 08:56:06           324.442160             41.287181  ...   \n",
              "2020-09-22 08:56:16           324.216285             41.346787  ...   \n",
              "2020-09-22 08:56:26           323.990409             42.271664  ...   \n",
              "2020-09-22 08:56:36           325.125764             54.836514  ...   \n",
              "2020-09-22 08:56:46           325.325733             79.778458  ...   \n",
              "\n",
              "                     Turtallsreg. Fuge B  Temperatur mikser B1  \\\n",
              "datetime                                                         \n",
              "2020-09-22 08:56:06           324.372223            113.223134   \n",
              "2020-09-22 08:56:16           324.632507            112.656876   \n",
              "2020-09-22 08:56:26           323.534198            112.142281   \n",
              "2020-09-22 08:56:36           324.473541            111.643585   \n",
              "2020-09-22 08:56:46           324.473541            111.238269   \n",
              "\n",
              "                     Temperatur mikser B3  \\\n",
              "datetime                                    \n",
              "2020-09-22 08:56:06            112.283353   \n",
              "2020-09-22 08:56:16            111.810486   \n",
              "2020-09-22 08:56:26            111.307810   \n",
              "2020-09-22 08:56:36            110.777321   \n",
              "2020-09-22 08:56:46            110.391874   \n",
              "\n",
              "                     Temperatur T3402 inndamping væskelås  \\\n",
              "datetime                                                    \n",
              "2020-09-22 08:56:06                            184.272961   \n",
              "2020-09-22 08:56:16                            184.408853   \n",
              "2020-09-22 08:56:26                            184.532822   \n",
              "2020-09-22 08:56:36                            184.597794   \n",
              "2020-09-22 08:56:46                            184.642502   \n",
              "\n",
              "                     Væskelås B -> MIX B  Væskelås B -> MIX A  \\\n",
              "datetime                                                        \n",
              "2020-09-22 08:56:06                False                False   \n",
              "2020-09-22 08:56:16                False                 True   \n",
              "2020-09-22 08:56:26                False                 True   \n",
              "2020-09-22 08:56:36                False                 True   \n",
              "2020-09-22 08:56:46                False                 True   \n",
              "\n",
              "                     Væskelås A -> MIX B  Væskelås A -> MIX A  NPLUT-INND B  \\\n",
              "datetime                                                                      \n",
              "2020-09-22 08:56:06                False                False     30.040635   \n",
              "2020-09-22 08:56:16                False                False     30.086357   \n",
              "2020-09-22 08:56:26                False                False     30.132080   \n",
              "2020-09-22 08:56:36                False                False     30.117502   \n",
              "2020-09-22 08:56:46                False                False     30.095304   \n",
              "\n",
              "                     neoScattering  \n",
              "datetime                            \n",
              "2020-09-22 08:56:06       2.327032  \n",
              "2020-09-22 08:56:16       2.327000  \n",
              "2020-09-22 08:56:26       2.004000  \n",
              "2020-09-22 08:56:36       1.788500  \n",
              "2020-09-22 08:56:46       1.991000  \n",
              "\n",
              "[5 rows x 31 columns]"
            ],
            "text/html": [
              "\n",
              "  <div id=\"df-31be79da-0e7e-42a5-8e36-f243b817f843\">\n",
              "    <div class=\"colab-df-container\">\n",
              "      <div>\n",
              "<style scoped>\n",
              "    .dataframe tbody tr th:only-of-type {\n",
              "        vertical-align: middle;\n",
              "    }\n",
              "\n",
              "    .dataframe tbody tr th {\n",
              "        vertical-align: top;\n",
              "    }\n",
              "\n",
              "    .dataframe thead th {\n",
              "        text-align: right;\n",
              "    }\n",
              "</style>\n",
              "<table border=\"1\" class=\"dataframe\">\n",
              "  <thead>\n",
              "    <tr style=\"text-align: right;\">\n",
              "      <th></th>\n",
              "      <th>INNDAER 1</th>\n",
              "      <th>AM-LUTVLAS A</th>\n",
              "      <th>BOR VEKT A</th>\n",
              "      <th>DOLOM VEKT A</th>\n",
              "      <th>Kalivekt A</th>\n",
              "      <th>MGO VEKT</th>\n",
              "      <th>NPLUT-INND A</th>\n",
              "      <th>SALTVEKT TT W3401</th>\n",
              "      <th>Turtallsreg. Fuge A</th>\n",
              "      <th>Temperatur mikser A1</th>\n",
              "      <th>...</th>\n",
              "      <th>Turtallsreg. Fuge B</th>\n",
              "      <th>Temperatur mikser B1</th>\n",
              "      <th>Temperatur mikser B3</th>\n",
              "      <th>Temperatur T3402 inndamping væskelås</th>\n",
              "      <th>Væskelås B -&gt; MIX B</th>\n",
              "      <th>Væskelås B -&gt; MIX A</th>\n",
              "      <th>Væskelås A -&gt; MIX B</th>\n",
              "      <th>Væskelås A -&gt; MIX A</th>\n",
              "      <th>NPLUT-INND B</th>\n",
              "      <th>neoScattering</th>\n",
              "    </tr>\n",
              "    <tr>\n",
              "      <th>datetime</th>\n",
              "      <th></th>\n",
              "      <th></th>\n",
              "      <th></th>\n",
              "      <th></th>\n",
              "      <th></th>\n",
              "      <th></th>\n",
              "      <th></th>\n",
              "      <th></th>\n",
              "      <th></th>\n",
              "      <th></th>\n",
              "      <th></th>\n",
              "      <th></th>\n",
              "      <th></th>\n",
              "      <th></th>\n",
              "      <th></th>\n",
              "      <th></th>\n",
              "      <th></th>\n",
              "      <th></th>\n",
              "      <th></th>\n",
              "      <th></th>\n",
              "      <th></th>\n",
              "    </tr>\n",
              "  </thead>\n",
              "  <tbody>\n",
              "    <tr>\n",
              "      <th>2020-09-22 08:56:06</th>\n",
              "      <td>0.781092</td>\n",
              "      <td>26.519396</td>\n",
              "      <td>4.629490</td>\n",
              "      <td>0.015649</td>\n",
              "      <td>0.635937</td>\n",
              "      <td>0.095390</td>\n",
              "      <td>30.039738</td>\n",
              "      <td>40.477000</td>\n",
              "      <td>324.442160</td>\n",
              "      <td>41.287181</td>\n",
              "      <td>...</td>\n",
              "      <td>324.372223</td>\n",
              "      <td>113.223134</td>\n",
              "      <td>112.283353</td>\n",
              "      <td>184.272961</td>\n",
              "      <td>False</td>\n",
              "      <td>False</td>\n",
              "      <td>False</td>\n",
              "      <td>False</td>\n",
              "      <td>30.040635</td>\n",
              "      <td>2.327032</td>\n",
              "    </tr>\n",
              "    <tr>\n",
              "      <th>2020-09-22 08:56:16</th>\n",
              "      <td>0.780581</td>\n",
              "      <td>26.876701</td>\n",
              "      <td>4.629533</td>\n",
              "      <td>0.015649</td>\n",
              "      <td>0.644175</td>\n",
              "      <td>0.096653</td>\n",
              "      <td>29.894164</td>\n",
              "      <td>40.478285</td>\n",
              "      <td>324.216285</td>\n",
              "      <td>41.346787</td>\n",
              "      <td>...</td>\n",
              "      <td>324.632507</td>\n",
              "      <td>112.656876</td>\n",
              "      <td>111.810486</td>\n",
              "      <td>184.408853</td>\n",
              "      <td>False</td>\n",
              "      <td>True</td>\n",
              "      <td>False</td>\n",
              "      <td>False</td>\n",
              "      <td>30.086357</td>\n",
              "      <td>2.327000</td>\n",
              "    </tr>\n",
              "    <tr>\n",
              "      <th>2020-09-22 08:56:26</th>\n",
              "      <td>0.780071</td>\n",
              "      <td>26.841930</td>\n",
              "      <td>4.629576</td>\n",
              "      <td>0.015650</td>\n",
              "      <td>0.652414</td>\n",
              "      <td>0.097916</td>\n",
              "      <td>29.888657</td>\n",
              "      <td>40.479571</td>\n",
              "      <td>323.990409</td>\n",
              "      <td>42.271664</td>\n",
              "      <td>...</td>\n",
              "      <td>323.534198</td>\n",
              "      <td>112.142281</td>\n",
              "      <td>111.307810</td>\n",
              "      <td>184.532822</td>\n",
              "      <td>False</td>\n",
              "      <td>True</td>\n",
              "      <td>False</td>\n",
              "      <td>False</td>\n",
              "      <td>30.132080</td>\n",
              "      <td>2.004000</td>\n",
              "    </tr>\n",
              "    <tr>\n",
              "      <th>2020-09-22 08:56:36</th>\n",
              "      <td>0.779006</td>\n",
              "      <td>26.914482</td>\n",
              "      <td>4.629619</td>\n",
              "      <td>0.015650</td>\n",
              "      <td>0.660653</td>\n",
              "      <td>0.099179</td>\n",
              "      <td>29.815544</td>\n",
              "      <td>40.480857</td>\n",
              "      <td>325.125764</td>\n",
              "      <td>54.836514</td>\n",
              "      <td>...</td>\n",
              "      <td>324.473541</td>\n",
              "      <td>111.643585</td>\n",
              "      <td>110.777321</td>\n",
              "      <td>184.597794</td>\n",
              "      <td>False</td>\n",
              "      <td>True</td>\n",
              "      <td>False</td>\n",
              "      <td>False</td>\n",
              "      <td>30.117502</td>\n",
              "      <td>1.788500</td>\n",
              "    </tr>\n",
              "    <tr>\n",
              "      <th>2020-09-22 08:56:46</th>\n",
              "      <td>0.779640</td>\n",
              "      <td>26.974942</td>\n",
              "      <td>4.629654</td>\n",
              "      <td>0.015650</td>\n",
              "      <td>0.667518</td>\n",
              "      <td>0.100231</td>\n",
              "      <td>29.799110</td>\n",
              "      <td>40.481928</td>\n",
              "      <td>325.325733</td>\n",
              "      <td>79.778458</td>\n",
              "      <td>...</td>\n",
              "      <td>324.473541</td>\n",
              "      <td>111.238269</td>\n",
              "      <td>110.391874</td>\n",
              "      <td>184.642502</td>\n",
              "      <td>False</td>\n",
              "      <td>True</td>\n",
              "      <td>False</td>\n",
              "      <td>False</td>\n",
              "      <td>30.095304</td>\n",
              "      <td>1.991000</td>\n",
              "    </tr>\n",
              "  </tbody>\n",
              "</table>\n",
              "<p>5 rows × 31 columns</p>\n",
              "</div>\n",
              "      <button class=\"colab-df-convert\" onclick=\"convertToInteractive('df-31be79da-0e7e-42a5-8e36-f243b817f843')\"\n",
              "              title=\"Convert this dataframe to an interactive table.\"\n",
              "              style=\"display:none;\">\n",
              "        \n",
              "  <svg xmlns=\"http://www.w3.org/2000/svg\" height=\"24px\"viewBox=\"0 0 24 24\"\n",
              "       width=\"24px\">\n",
              "    <path d=\"M0 0h24v24H0V0z\" fill=\"none\"/>\n",
              "    <path d=\"M18.56 5.44l.94 2.06.94-2.06 2.06-.94-2.06-.94-.94-2.06-.94 2.06-2.06.94zm-11 1L8.5 8.5l.94-2.06 2.06-.94-2.06-.94L8.5 2.5l-.94 2.06-2.06.94zm10 10l.94 2.06.94-2.06 2.06-.94-2.06-.94-.94-2.06-.94 2.06-2.06.94z\"/><path d=\"M17.41 7.96l-1.37-1.37c-.4-.4-.92-.59-1.43-.59-.52 0-1.04.2-1.43.59L10.3 9.45l-7.72 7.72c-.78.78-.78 2.05 0 2.83L4 21.41c.39.39.9.59 1.41.59.51 0 1.02-.2 1.41-.59l7.78-7.78 2.81-2.81c.8-.78.8-2.07 0-2.86zM5.41 20L4 18.59l7.72-7.72 1.47 1.35L5.41 20z\"/>\n",
              "  </svg>\n",
              "      </button>\n",
              "      \n",
              "  <style>\n",
              "    .colab-df-container {\n",
              "      display:flex;\n",
              "      flex-wrap:wrap;\n",
              "      gap: 12px;\n",
              "    }\n",
              "\n",
              "    .colab-df-convert {\n",
              "      background-color: #E8F0FE;\n",
              "      border: none;\n",
              "      border-radius: 50%;\n",
              "      cursor: pointer;\n",
              "      display: none;\n",
              "      fill: #1967D2;\n",
              "      height: 32px;\n",
              "      padding: 0 0 0 0;\n",
              "      width: 32px;\n",
              "    }\n",
              "\n",
              "    .colab-df-convert:hover {\n",
              "      background-color: #E2EBFA;\n",
              "      box-shadow: 0px 1px 2px rgba(60, 64, 67, 0.3), 0px 1px 3px 1px rgba(60, 64, 67, 0.15);\n",
              "      fill: #174EA6;\n",
              "    }\n",
              "\n",
              "    [theme=dark] .colab-df-convert {\n",
              "      background-color: #3B4455;\n",
              "      fill: #D2E3FC;\n",
              "    }\n",
              "\n",
              "    [theme=dark] .colab-df-convert:hover {\n",
              "      background-color: #434B5C;\n",
              "      box-shadow: 0px 1px 3px 1px rgba(0, 0, 0, 0.15);\n",
              "      filter: drop-shadow(0px 1px 2px rgba(0, 0, 0, 0.3));\n",
              "      fill: #FFFFFF;\n",
              "    }\n",
              "  </style>\n",
              "\n",
              "      <script>\n",
              "        const buttonEl =\n",
              "          document.querySelector('#df-31be79da-0e7e-42a5-8e36-f243b817f843 button.colab-df-convert');\n",
              "        buttonEl.style.display =\n",
              "          google.colab.kernel.accessAllowed ? 'block' : 'none';\n",
              "\n",
              "        async function convertToInteractive(key) {\n",
              "          const element = document.querySelector('#df-31be79da-0e7e-42a5-8e36-f243b817f843');\n",
              "          const dataTable =\n",
              "            await google.colab.kernel.invokeFunction('convertToInteractive',\n",
              "                                                     [key], {});\n",
              "          if (!dataTable) return;\n",
              "\n",
              "          const docLinkHtml = 'Like what you see? Visit the ' +\n",
              "            '<a target=\"_blank\" href=https://colab.research.google.com/notebooks/data_table.ipynb>data table notebook</a>'\n",
              "            + ' to learn more about interactive tables.';\n",
              "          element.innerHTML = '';\n",
              "          dataTable['output_type'] = 'display_data';\n",
              "          await google.colab.output.renderOutput(dataTable, element);\n",
              "          const docLink = document.createElement('div');\n",
              "          docLink.innerHTML = docLinkHtml;\n",
              "          element.appendChild(docLink);\n",
              "        }\n",
              "      </script>\n",
              "    </div>\n",
              "  </div>\n",
              "  "
            ]
          },
          "metadata": {},
          "execution_count": 3
        }
      ]
    },
    {
      "cell_type": "markdown",
      "source": [
        "## Encode and Normalization"
      ],
      "metadata": {
        "id": "3c3F_HxbLcRC"
      }
    },
    {
      "cell_type": "markdown",
      "source": [
        "we will encode the columns with categorical data and normalize the data, to do so we use The MinMaxScaler function, it will encode and normalize the data in the same time\n"
      ],
      "metadata": {
        "id": "SZMr5iBkNAHP"
      }
    },
    {
      "cell_type": "code",
      "source": [
        "min_max_scaler = MinMaxScaler()\n",
        "F_data = pd.DataFrame(data = min_max_scaler.fit_transform(data), \n",
        "                  index = data.index, \n",
        "                  columns = data.columns)"
      ],
      "metadata": {
        "id": "B642GJWzarRh"
      },
      "execution_count": 4,
      "outputs": []
    },
    {
      "cell_type": "code",
      "source": [
        "F_data.head()"
      ],
      "metadata": {
        "colab": {
          "base_uri": "https://localhost:8080/",
          "height": 556
        },
        "id": "KWUukUs5ch4w",
        "outputId": "1366b42d-121b-4045-9732-78b9c2e1f54d"
      },
      "execution_count": 5,
      "outputs": [
        {
          "output_type": "execute_result",
          "data": {
            "text/plain": [
              "                     INNDAER 1  AM-LUTVLAS A  BOR VEKT A  DOLOM VEKT A  \\\n",
              "datetime                                                                 \n",
              "2020-09-22 08:56:06   0.172092      0.327384    0.023149      0.001701   \n",
              "2020-09-22 08:56:16   0.170818      0.331793    0.023149      0.001701   \n",
              "2020-09-22 08:56:26   0.169544      0.331364    0.023149      0.001701   \n",
              "2020-09-22 08:56:36   0.166885      0.332260    0.023149      0.001701   \n",
              "2020-09-22 08:56:46   0.168470      0.333006    0.023150      0.001701   \n",
              "\n",
              "                     Kalivekt A  MGO VEKT  NPLUT-INND A  SALTVEKT TT W3401  \\\n",
              "datetime                                                                     \n",
              "2020-09-22 08:56:06    0.429059  0.224285      0.476186           0.708650   \n",
              "2020-09-22 08:56:16    0.429245  0.224566      0.473873           0.708693   \n",
              "2020-09-22 08:56:26    0.429432  0.224847      0.473786           0.708737   \n",
              "2020-09-22 08:56:36    0.429619  0.225129      0.472624           0.708781   \n",
              "2020-09-22 08:56:46    0.429775  0.225363      0.472363           0.708817   \n",
              "\n",
              "                     Turtallsreg. Fuge A  Temperatur mikser A1  ...  \\\n",
              "datetime                                                        ...   \n",
              "2020-09-22 08:56:06             0.570587              0.098196  ...   \n",
              "2020-09-22 08:56:16             0.570187              0.098573  ...   \n",
              "2020-09-22 08:56:26             0.569788              0.104410  ...   \n",
              "2020-09-22 08:56:36             0.571796              0.183718  ...   \n",
              "2020-09-22 08:56:46             0.572150              0.341149  ...   \n",
              "\n",
              "                     Turtallsreg. Fuge B  Temperatur mikser B1  \\\n",
              "datetime                                                         \n",
              "2020-09-22 08:56:06             0.752295              0.564865   \n",
              "2020-09-22 08:56:16             0.752902              0.561342   \n",
              "2020-09-22 08:56:26             0.750339              0.558140   \n",
              "2020-09-22 08:56:36             0.752531              0.555038   \n",
              "2020-09-22 08:56:46             0.752531              0.552516   \n",
              "\n",
              "                     Temperatur mikser B3  \\\n",
              "datetime                                    \n",
              "2020-09-22 08:56:06              0.560115   \n",
              "2020-09-22 08:56:16              0.557172   \n",
              "2020-09-22 08:56:26              0.554042   \n",
              "2020-09-22 08:56:36              0.550740   \n",
              "2020-09-22 08:56:46              0.548340   \n",
              "\n",
              "                     Temperatur T3402 inndamping væskelås  \\\n",
              "datetime                                                    \n",
              "2020-09-22 08:56:06                              0.959870   \n",
              "2020-09-22 08:56:16                              0.960739   \n",
              "2020-09-22 08:56:26                              0.961531   \n",
              "2020-09-22 08:56:36                              0.961946   \n",
              "2020-09-22 08:56:46                              0.962232   \n",
              "\n",
              "                     Væskelås B -> MIX B  Væskelås B -> MIX A  \\\n",
              "datetime                                                        \n",
              "2020-09-22 08:56:06                  0.0                  0.0   \n",
              "2020-09-22 08:56:16                  0.0                  1.0   \n",
              "2020-09-22 08:56:26                  0.0                  1.0   \n",
              "2020-09-22 08:56:36                  0.0                  1.0   \n",
              "2020-09-22 08:56:46                  0.0                  1.0   \n",
              "\n",
              "                     Væskelås A -> MIX B  Væskelås A -> MIX A  NPLUT-INND B  \\\n",
              "datetime                                                                      \n",
              "2020-09-22 08:56:06                  0.0                  0.0      0.396145   \n",
              "2020-09-22 08:56:16                  0.0                  0.0      0.396749   \n",
              "2020-09-22 08:56:26                  0.0                  0.0      0.397353   \n",
              "2020-09-22 08:56:36                  0.0                  0.0      0.397161   \n",
              "2020-09-22 08:56:46                  0.0                  0.0      0.396867   \n",
              "\n",
              "                     neoScattering  \n",
              "datetime                            \n",
              "2020-09-22 08:56:06       0.440067  \n",
              "2020-09-22 08:56:16       0.440064  \n",
              "2020-09-22 08:56:26       0.416463  \n",
              "2020-09-22 08:56:36       0.400716  \n",
              "2020-09-22 08:56:46       0.415513  \n",
              "\n",
              "[5 rows x 31 columns]"
            ],
            "text/html": [
              "\n",
              "  <div id=\"df-465a5b43-9c5e-4ed2-82ae-cdd8d234ed96\">\n",
              "    <div class=\"colab-df-container\">\n",
              "      <div>\n",
              "<style scoped>\n",
              "    .dataframe tbody tr th:only-of-type {\n",
              "        vertical-align: middle;\n",
              "    }\n",
              "\n",
              "    .dataframe tbody tr th {\n",
              "        vertical-align: top;\n",
              "    }\n",
              "\n",
              "    .dataframe thead th {\n",
              "        text-align: right;\n",
              "    }\n",
              "</style>\n",
              "<table border=\"1\" class=\"dataframe\">\n",
              "  <thead>\n",
              "    <tr style=\"text-align: right;\">\n",
              "      <th></th>\n",
              "      <th>INNDAER 1</th>\n",
              "      <th>AM-LUTVLAS A</th>\n",
              "      <th>BOR VEKT A</th>\n",
              "      <th>DOLOM VEKT A</th>\n",
              "      <th>Kalivekt A</th>\n",
              "      <th>MGO VEKT</th>\n",
              "      <th>NPLUT-INND A</th>\n",
              "      <th>SALTVEKT TT W3401</th>\n",
              "      <th>Turtallsreg. Fuge A</th>\n",
              "      <th>Temperatur mikser A1</th>\n",
              "      <th>...</th>\n",
              "      <th>Turtallsreg. Fuge B</th>\n",
              "      <th>Temperatur mikser B1</th>\n",
              "      <th>Temperatur mikser B3</th>\n",
              "      <th>Temperatur T3402 inndamping væskelås</th>\n",
              "      <th>Væskelås B -&gt; MIX B</th>\n",
              "      <th>Væskelås B -&gt; MIX A</th>\n",
              "      <th>Væskelås A -&gt; MIX B</th>\n",
              "      <th>Væskelås A -&gt; MIX A</th>\n",
              "      <th>NPLUT-INND B</th>\n",
              "      <th>neoScattering</th>\n",
              "    </tr>\n",
              "    <tr>\n",
              "      <th>datetime</th>\n",
              "      <th></th>\n",
              "      <th></th>\n",
              "      <th></th>\n",
              "      <th></th>\n",
              "      <th></th>\n",
              "      <th></th>\n",
              "      <th></th>\n",
              "      <th></th>\n",
              "      <th></th>\n",
              "      <th></th>\n",
              "      <th></th>\n",
              "      <th></th>\n",
              "      <th></th>\n",
              "      <th></th>\n",
              "      <th></th>\n",
              "      <th></th>\n",
              "      <th></th>\n",
              "      <th></th>\n",
              "      <th></th>\n",
              "      <th></th>\n",
              "      <th></th>\n",
              "    </tr>\n",
              "  </thead>\n",
              "  <tbody>\n",
              "    <tr>\n",
              "      <th>2020-09-22 08:56:06</th>\n",
              "      <td>0.172092</td>\n",
              "      <td>0.327384</td>\n",
              "      <td>0.023149</td>\n",
              "      <td>0.001701</td>\n",
              "      <td>0.429059</td>\n",
              "      <td>0.224285</td>\n",
              "      <td>0.476186</td>\n",
              "      <td>0.708650</td>\n",
              "      <td>0.570587</td>\n",
              "      <td>0.098196</td>\n",
              "      <td>...</td>\n",
              "      <td>0.752295</td>\n",
              "      <td>0.564865</td>\n",
              "      <td>0.560115</td>\n",
              "      <td>0.959870</td>\n",
              "      <td>0.0</td>\n",
              "      <td>0.0</td>\n",
              "      <td>0.0</td>\n",
              "      <td>0.0</td>\n",
              "      <td>0.396145</td>\n",
              "      <td>0.440067</td>\n",
              "    </tr>\n",
              "    <tr>\n",
              "      <th>2020-09-22 08:56:16</th>\n",
              "      <td>0.170818</td>\n",
              "      <td>0.331793</td>\n",
              "      <td>0.023149</td>\n",
              "      <td>0.001701</td>\n",
              "      <td>0.429245</td>\n",
              "      <td>0.224566</td>\n",
              "      <td>0.473873</td>\n",
              "      <td>0.708693</td>\n",
              "      <td>0.570187</td>\n",
              "      <td>0.098573</td>\n",
              "      <td>...</td>\n",
              "      <td>0.752902</td>\n",
              "      <td>0.561342</td>\n",
              "      <td>0.557172</td>\n",
              "      <td>0.960739</td>\n",
              "      <td>0.0</td>\n",
              "      <td>1.0</td>\n",
              "      <td>0.0</td>\n",
              "      <td>0.0</td>\n",
              "      <td>0.396749</td>\n",
              "      <td>0.440064</td>\n",
              "    </tr>\n",
              "    <tr>\n",
              "      <th>2020-09-22 08:56:26</th>\n",
              "      <td>0.169544</td>\n",
              "      <td>0.331364</td>\n",
              "      <td>0.023149</td>\n",
              "      <td>0.001701</td>\n",
              "      <td>0.429432</td>\n",
              "      <td>0.224847</td>\n",
              "      <td>0.473786</td>\n",
              "      <td>0.708737</td>\n",
              "      <td>0.569788</td>\n",
              "      <td>0.104410</td>\n",
              "      <td>...</td>\n",
              "      <td>0.750339</td>\n",
              "      <td>0.558140</td>\n",
              "      <td>0.554042</td>\n",
              "      <td>0.961531</td>\n",
              "      <td>0.0</td>\n",
              "      <td>1.0</td>\n",
              "      <td>0.0</td>\n",
              "      <td>0.0</td>\n",
              "      <td>0.397353</td>\n",
              "      <td>0.416463</td>\n",
              "    </tr>\n",
              "    <tr>\n",
              "      <th>2020-09-22 08:56:36</th>\n",
              "      <td>0.166885</td>\n",
              "      <td>0.332260</td>\n",
              "      <td>0.023149</td>\n",
              "      <td>0.001701</td>\n",
              "      <td>0.429619</td>\n",
              "      <td>0.225129</td>\n",
              "      <td>0.472624</td>\n",
              "      <td>0.708781</td>\n",
              "      <td>0.571796</td>\n",
              "      <td>0.183718</td>\n",
              "      <td>...</td>\n",
              "      <td>0.752531</td>\n",
              "      <td>0.555038</td>\n",
              "      <td>0.550740</td>\n",
              "      <td>0.961946</td>\n",
              "      <td>0.0</td>\n",
              "      <td>1.0</td>\n",
              "      <td>0.0</td>\n",
              "      <td>0.0</td>\n",
              "      <td>0.397161</td>\n",
              "      <td>0.400716</td>\n",
              "    </tr>\n",
              "    <tr>\n",
              "      <th>2020-09-22 08:56:46</th>\n",
              "      <td>0.168470</td>\n",
              "      <td>0.333006</td>\n",
              "      <td>0.023150</td>\n",
              "      <td>0.001701</td>\n",
              "      <td>0.429775</td>\n",
              "      <td>0.225363</td>\n",
              "      <td>0.472363</td>\n",
              "      <td>0.708817</td>\n",
              "      <td>0.572150</td>\n",
              "      <td>0.341149</td>\n",
              "      <td>...</td>\n",
              "      <td>0.752531</td>\n",
              "      <td>0.552516</td>\n",
              "      <td>0.548340</td>\n",
              "      <td>0.962232</td>\n",
              "      <td>0.0</td>\n",
              "      <td>1.0</td>\n",
              "      <td>0.0</td>\n",
              "      <td>0.0</td>\n",
              "      <td>0.396867</td>\n",
              "      <td>0.415513</td>\n",
              "    </tr>\n",
              "  </tbody>\n",
              "</table>\n",
              "<p>5 rows × 31 columns</p>\n",
              "</div>\n",
              "      <button class=\"colab-df-convert\" onclick=\"convertToInteractive('df-465a5b43-9c5e-4ed2-82ae-cdd8d234ed96')\"\n",
              "              title=\"Convert this dataframe to an interactive table.\"\n",
              "              style=\"display:none;\">\n",
              "        \n",
              "  <svg xmlns=\"http://www.w3.org/2000/svg\" height=\"24px\"viewBox=\"0 0 24 24\"\n",
              "       width=\"24px\">\n",
              "    <path d=\"M0 0h24v24H0V0z\" fill=\"none\"/>\n",
              "    <path d=\"M18.56 5.44l.94 2.06.94-2.06 2.06-.94-2.06-.94-.94-2.06-.94 2.06-2.06.94zm-11 1L8.5 8.5l.94-2.06 2.06-.94-2.06-.94L8.5 2.5l-.94 2.06-2.06.94zm10 10l.94 2.06.94-2.06 2.06-.94-2.06-.94-.94-2.06-.94 2.06-2.06.94z\"/><path d=\"M17.41 7.96l-1.37-1.37c-.4-.4-.92-.59-1.43-.59-.52 0-1.04.2-1.43.59L10.3 9.45l-7.72 7.72c-.78.78-.78 2.05 0 2.83L4 21.41c.39.39.9.59 1.41.59.51 0 1.02-.2 1.41-.59l7.78-7.78 2.81-2.81c.8-.78.8-2.07 0-2.86zM5.41 20L4 18.59l7.72-7.72 1.47 1.35L5.41 20z\"/>\n",
              "  </svg>\n",
              "      </button>\n",
              "      \n",
              "  <style>\n",
              "    .colab-df-container {\n",
              "      display:flex;\n",
              "      flex-wrap:wrap;\n",
              "      gap: 12px;\n",
              "    }\n",
              "\n",
              "    .colab-df-convert {\n",
              "      background-color: #E8F0FE;\n",
              "      border: none;\n",
              "      border-radius: 50%;\n",
              "      cursor: pointer;\n",
              "      display: none;\n",
              "      fill: #1967D2;\n",
              "      height: 32px;\n",
              "      padding: 0 0 0 0;\n",
              "      width: 32px;\n",
              "    }\n",
              "\n",
              "    .colab-df-convert:hover {\n",
              "      background-color: #E2EBFA;\n",
              "      box-shadow: 0px 1px 2px rgba(60, 64, 67, 0.3), 0px 1px 3px 1px rgba(60, 64, 67, 0.15);\n",
              "      fill: #174EA6;\n",
              "    }\n",
              "\n",
              "    [theme=dark] .colab-df-convert {\n",
              "      background-color: #3B4455;\n",
              "      fill: #D2E3FC;\n",
              "    }\n",
              "\n",
              "    [theme=dark] .colab-df-convert:hover {\n",
              "      background-color: #434B5C;\n",
              "      box-shadow: 0px 1px 3px 1px rgba(0, 0, 0, 0.15);\n",
              "      filter: drop-shadow(0px 1px 2px rgba(0, 0, 0, 0.3));\n",
              "      fill: #FFFFFF;\n",
              "    }\n",
              "  </style>\n",
              "\n",
              "      <script>\n",
              "        const buttonEl =\n",
              "          document.querySelector('#df-465a5b43-9c5e-4ed2-82ae-cdd8d234ed96 button.colab-df-convert');\n",
              "        buttonEl.style.display =\n",
              "          google.colab.kernel.accessAllowed ? 'block' : 'none';\n",
              "\n",
              "        async function convertToInteractive(key) {\n",
              "          const element = document.querySelector('#df-465a5b43-9c5e-4ed2-82ae-cdd8d234ed96');\n",
              "          const dataTable =\n",
              "            await google.colab.kernel.invokeFunction('convertToInteractive',\n",
              "                                                     [key], {});\n",
              "          if (!dataTable) return;\n",
              "\n",
              "          const docLinkHtml = 'Like what you see? Visit the ' +\n",
              "            '<a target=\"_blank\" href=https://colab.research.google.com/notebooks/data_table.ipynb>data table notebook</a>'\n",
              "            + ' to learn more about interactive tables.';\n",
              "          element.innerHTML = '';\n",
              "          dataTable['output_type'] = 'display_data';\n",
              "          await google.colab.output.renderOutput(dataTable, element);\n",
              "          const docLink = document.createElement('div');\n",
              "          docLink.innerHTML = docLinkHtml;\n",
              "          element.appendChild(docLink);\n",
              "        }\n",
              "      </script>\n",
              "    </div>\n",
              "  </div>\n",
              "  "
            ]
          },
          "metadata": {},
          "execution_count": 5
        }
      ]
    },
    {
      "cell_type": "markdown",
      "source": [
        "## Create inputs and outputs"
      ],
      "metadata": {
        "id": "jC_je9k-M1GI"
      }
    },
    {
      "cell_type": "code",
      "source": [
        "inputs  = F_data.iloc[:,:-1] # read all data as input\n",
        "outputs = F_data.iloc[:,-1] # Use the last Columns 'neoScattering' as output"
      ],
      "metadata": {
        "id": "InPR983Cenm1"
      },
      "execution_count": 6,
      "outputs": []
    },
    {
      "cell_type": "code",
      "source": [
        "X_train, X_test, y_train, y_test = train_test_split(inputs, outputs, test_size = 0.3, random_state = 0)"
      ],
      "metadata": {
        "id": "l_6EA-7jkNO7"
      },
      "execution_count": 7,
      "outputs": []
    },
    {
      "cell_type": "code",
      "source": [
        "regressor = LinearRegression()\n",
        "regressor.fit(X_train, y_train)"
      ],
      "metadata": {
        "colab": {
          "base_uri": "https://localhost:8080/"
        },
        "id": "5SiWCKEOk482",
        "outputId": "a579440d-3587-4f40-c42f-f793be3ee775"
      },
      "execution_count": 8,
      "outputs": [
        {
          "output_type": "execute_result",
          "data": {
            "text/plain": [
              "LinearRegression()"
            ]
          },
          "metadata": {},
          "execution_count": 8
        }
      ]
    },
    {
      "cell_type": "code",
      "source": [
        "\"\"\"\n",
        "to get the equation used to get the NeoScattering \n",
        "we can use regressor.coef_ and regressor.intercept_ to get \n",
        "the Coeficent multiplied by each feature and the intercept added\n",
        "\"\"\"\n",
        "text = \"neoScattering = \"\n",
        "for i,j in zip(regressor.coef_,X_train.columns):\n",
        "  \n",
        "  if i > 0 : text += f' +{i} * {j} '\n",
        "  else :     text += f'{i} * {j}'\n",
        "\n",
        "text += f\" + {regressor.intercept_}\"\n",
        "\n",
        "print(text)"
      ],
      "metadata": {
        "colab": {
          "base_uri": "https://localhost:8080/"
        },
        "id": "3tEMp8ytunV4",
        "outputId": "6d77e6c8-cffa-43b3-96c5-bfbc6c151e18"
      },
      "execution_count": 9,
      "outputs": [
        {
          "output_type": "stream",
          "name": "stdout",
          "text": [
            "neoScattering =  +0.5722500984828898 * INNDAER 1 -0.29724162534176524 * AM-LUTVLAS A +0.04615461462884155 * BOR VEKT A  +0.04022013941960421 * DOLOM VEKT A -0.1191579642566943 * Kalivekt A +0.017871771569517428 * MGO VEKT  +0.07831743046315003 * NPLUT-INND A  +0.03946747503419365 * SALTVEKT TT W3401  +0.016050788426804713 * Turtallsreg. Fuge A  +0.04668914239172077 * Temperatur mikser A1  +0.7672647041337007 * Temperatur mikser B2 -1.0613862679655137 * Temperatur T3401 inndamping væskelås +0.10133571029571743 * SALTVEKT TT -0.3222890306413691 * INNDAER 2 +0.30911078159632294 * AM-LUTVLAS B  +0.047077139136567796 * DOLOM VEKT B -0.06409038202925757 * Kalivekt B +0.13682163849146245 * DIVERSE VEKT -0.1371589186168633 * RETURV BAND +0.03770606547265328 * Fuge B i posisjon  +0.04173715890452781 * Fuge A i posisjon -0.0033545296505461154 * Turtallsreg. Fuge B-0.13102662247989658 * Temperatur mikser B1-0.6118541632398985 * Temperatur mikser B3 +0.8851422962391592 * Temperatur T3402 inndamping væskelås  +0.04621019419490345 * Væskelås B -> MIX B  +0.0739012709068086 * Væskelås B -> MIX A  +0.009241342420888338 * Væskelås A -> MIX B -0.06022483675282507 * Væskelås A -> MIX A +0.2505351116015887 * NPLUT-INND B  + 0.3663535598649308\n"
          ]
        }
      ]
    },
    {
      "cell_type": "code",
      "source": [
        "# Testing Phase\n",
        "y_pred = regressor.predict(X_test)"
      ],
      "metadata": {
        "id": "a4sUR89KlAJZ"
      },
      "execution_count": 10,
      "outputs": []
    },
    {
      "cell_type": "code",
      "source": [
        "print(f\"Reggresion error for {X_test.shape[0]} tests\")\n",
        "print(f\"Mean squared error = {mse(y_pred,np.array(y_test))}\")\n",
        "print(f\"Mean Absolute error = {mae(y_pred,np.array(y_test))}\")"
      ],
      "metadata": {
        "colab": {
          "base_uri": "https://localhost:8080/"
        },
        "id": "O9a55zkYl1bA",
        "outputId": "bc74dffa-982b-4876-e987-7a2105340339"
      },
      "execution_count": 11,
      "outputs": [
        {
          "output_type": "stream",
          "name": "stdout",
          "text": [
            "Reggresion error for 59442 tests\n",
            "Mean squared error = 0.0041970922611653805\n",
            "Mean Absolute error = 0.04240979254245758\n"
          ]
        }
      ]
    },
    {
      "cell_type": "code",
      "source": [
        "# Here we will test only 100 row \n",
        "Size = 100 \n",
        "ix     = np.random.randint(0, X_test.shape[0], Size)\n",
        "inp = []\n",
        "out = []\n",
        "for i in ix:\n",
        "  inp.append(X_test.iloc[i])\n",
        "  out.append(y_test.iloc[i])\n",
        "X = np.array(inp) # inputs Rows used for test\n",
        "Y = np.array(out).reshape(-1,1) # outputs "
      ],
      "metadata": {
        "id": "0Br57Tiaq78y"
      },
      "execution_count": 12,
      "outputs": []
    },
    {
      "cell_type": "code",
      "source": [
        "Inverse = MinMaxScaler() # inverse minmax transform for Y\n",
        "Inverse.fit(np.expand_dims(data['neoScattering'],-1))"
      ],
      "metadata": {
        "colab": {
          "base_uri": "https://localhost:8080/"
        },
        "id": "b5Lvs1jTQG06",
        "outputId": "87e95909-2139-4820-a3b5-ac2ec090ab76"
      },
      "execution_count": 13,
      "outputs": [
        {
          "output_type": "execute_result",
          "data": {
            "text/plain": [
              "MinMaxScaler()"
            ]
          },
          "metadata": {},
          "execution_count": 13
        }
      ]
    },
    {
      "cell_type": "code",
      "source": [
        "y_pred = regressor.predict(X) # Prediction using regressor\n",
        "y_pred = np.reshape(y_pred,(-1,1)) "
      ],
      "metadata": {
        "colab": {
          "base_uri": "https://localhost:8080/"
        },
        "id": "-tTOCWJasbIM",
        "outputId": "1648148e-8a2e-457b-aa4f-c2c766f2bc1d"
      },
      "execution_count": 14,
      "outputs": [
        {
          "output_type": "stream",
          "name": "stderr",
          "text": [
            "/usr/local/lib/python3.7/dist-packages/sklearn/base.py:451: UserWarning: X does not have valid feature names, but LinearRegression was fitted with feature names\n",
            "  \"X does not have valid feature names, but\"\n"
          ]
        }
      ]
    },
    {
      "cell_type": "code",
      "source": [
        "import matplotlib.pyplot as plt\n",
        "plt.plot(Inverse.inverse_transform(Y),'g--', label=\"original\")\n",
        "plt.plot(Inverse.inverse_transform(y_pred), label = \"Predicted\")\n",
        "plt.legend()\n",
        "plt.show()"
      ],
      "metadata": {
        "colab": {
          "base_uri": "https://localhost:8080/",
          "height": 265
        },
        "id": "CBxzOMkZHM7J",
        "outputId": "b979fd0d-8c6e-4cb0-e408-34772ece7b10"
      },
      "execution_count": 15,
      "outputs": [
        {
          "output_type": "display_data",
          "data": {
            "text/plain": [
              "<Figure size 432x288 with 1 Axes>"
            ],
            "image/png": "[encoded data removed]"
          },
          "metadata": {
            "needs_background": "light"
          }
        }
      ]
    },
    {
      "cell_type": "code",
      "source": [
        "print(\" Reggresion Error for only 100 test\")\n",
        "print(f\"Mean squared error = {mse(Inverse.inverse_transform(Y),Inverse.inverse_transform(y_pred))}\")\n",
        "print(f\"Mean Absolute error = {mae(Inverse.inverse_transform(Y),Inverse.inverse_transform(y_pred))}\")"
      ],
      "metadata": {
        "colab": {
          "base_uri": "https://localhost:8080/"
        },
        "id": "QSXLj81LsPBz",
        "outputId": "b139140e-44cd-4055-de37-772a6d434d9f"
      },
      "execution_count": 16,
      "outputs": [
        {
          "output_type": "stream",
          "name": "stdout",
          "text": [
            " Reggresion Error for only 100 test\n",
            "Mean squared error = 0.4877655506134033\n",
            "Mean Absolute error = 0.540066123008728\n"
          ]
        }
      ]
    }
  ]
}
