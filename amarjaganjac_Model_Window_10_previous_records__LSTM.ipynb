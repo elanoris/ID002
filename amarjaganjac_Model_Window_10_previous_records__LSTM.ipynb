{
  "cells": [
    {
      "cell_type": "markdown",
      "metadata": {
        "id": "view-in-github",
        "colab_type": "text"
      },
      "source": [
        "<a href=\"https://colab.research.google.com/github/elanoris/ID002/blob/main/amarjaganjac_Model_Window_10_previous_records__LSTM.ipynb\" target=\"_parent\"><img src=\"https://colab.research.google.com/assets/colab-badge.svg\" alt=\"Open In Colab\"/></a>"
      ]
    },
    {
      "cell_type": "markdown",
      "metadata": {
        "id": "Aba09r_0LTHR"
      },
      "source": [
        "## Import Library"
      ]
    },
    {
      "cell_type": "code",
      "execution_count": null,
      "metadata": {
        "id": "R5yOBk0uclb0"
      },
      "outputs": [],
      "source": [
        "import pandas as pd\n",
        "import numpy as np\n",
        "import tensorflow as tf\n",
        "from keras.layers import Input,Conv1D, Conv2D, ReLU, Concatenate,LSTM,Dense,Flatten,add,TimeDistributed,MaxPool2D\n",
        "from keras import Sequential,Model,models\n",
        "from keras.regularizers import l2\n",
        "from sklearn.preprocessing import MinMaxScaler\n",
        "from google.colab import drive\n"
      ]
    },
    {
      "cell_type": "code",
      "execution_count": null,
      "metadata": {
        "colab": {
          "base_uri": "https://localhost:8080/"
        },
        "id": "Jm0t4B4uh-oi",
        "outputId": "8627b5d9-27cb-45e0-9e65-cc0f0622ee7e"
      },
      "outputs": [
        {
          "output_type": "stream",
          "name": "stdout",
          "text": [
            "Drive already mounted at /content/drive; to attempt to forcibly remount, call drive.mount(\"/content/drive\", force_remount=True).\n"
          ]
        }
      ],
      "source": [
        "from google.colab import drive\n",
        "drive.mount('/content/drive')"
      ]
    },
    {
      "cell_type": "markdown",
      "metadata": {
        "id": "rFGRz8A0LXoz"
      },
      "source": [
        "## Read Dataset"
      ]
    },
    {
      "cell_type": "code",
      "execution_count": null,
      "metadata": {
        "colab": {
          "base_uri": "https://localhost:8080/",
          "height": 557
        },
        "id": "IOO4TXYYJJxF",
        "outputId": "3a2ab972-0359-4a93-bc35-1a70b8c0f5a7"
      },
      "outputs": [
        {
          "output_type": "execute_result",
          "data": {
            "text/plain": [
              "                     INNDAER 1  AM-LUTVLAS A  BOR VEKT A  DOLOM VEKT A  \\\n",
              "datetime                                                                 \n",
              "2020-08-28 07:47:26   0.789861     26.786908   12.025037  3.725291e-09   \n",
              "2020-08-28 07:47:36   0.789803     26.733138   12.025278  3.725291e-09   \n",
              "2020-08-28 07:47:46   0.789745     26.679369   12.025518  3.725291e-09   \n",
              "2020-08-28 07:47:56   0.789687     27.075109   12.025759  3.725291e-09   \n",
              "2020-08-28 07:48:06   0.789629     26.816600   12.026000  3.725291e-09   \n",
              "\n",
              "                     Kalivekt A  MGO VEKT  NPLUT-INND A  SALTVEKT TT W3401  \\\n",
              "datetime                                                                     \n",
              "2020-08-28 07:47:26   16.309496  0.554561     34.855412          41.277915   \n",
              "2020-08-28 07:47:36   16.374894  0.541977     34.737812          41.276523   \n",
              "2020-08-28 07:47:46   16.508825  0.574383     34.893684          41.275130   \n",
              "2020-08-28 07:47:56   16.312698  0.590698     34.810384          41.273737   \n",
              "2020-08-28 07:48:06   16.689440  0.563906     34.864311          41.272344   \n",
              "\n",
              "                     Turtallsreg. Fuge A  Temperatur mikser A1  ...  \\\n",
              "datetime                                                        ...   \n",
              "2020-08-28 07:47:26           335.131053            136.057405  ...   \n",
              "2020-08-28 07:47:36           334.364126            136.013750  ...   \n",
              "2020-08-28 07:47:46           334.767441            135.965208  ...   \n",
              "2020-08-28 07:47:56           336.919200            136.001396  ...   \n",
              "2020-08-28 07:48:06           334.277055            135.857919  ...   \n",
              "\n",
              "                     Turtallsreg. Fuge B  Temperatur mikser B1  \\\n",
              "datetime                                                         \n",
              "2020-08-28 07:47:26            21.905319             69.378966   \n",
              "2020-08-28 07:47:36            21.912941             69.374646   \n",
              "2020-08-28 07:47:46            21.920563             69.370325   \n",
              "2020-08-28 07:47:56            21.928184             69.366005   \n",
              "2020-08-28 07:48:06            21.935806             69.361685   \n",
              "\n",
              "                     Temperatur mikser B3  \\\n",
              "datetime                                    \n",
              "2020-08-28 07:47:26             69.299803   \n",
              "2020-08-28 07:47:36             69.309340   \n",
              "2020-08-28 07:47:46             69.364662   \n",
              "2020-08-28 07:47:56             69.344658   \n",
              "2020-08-28 07:48:06             69.324654   \n",
              "\n",
              "                     Temperatur T3402 inndamping væskelås  \\\n",
              "datetime                                                    \n",
              "2020-08-28 07:47:26                            185.716902   \n",
              "2020-08-28 07:47:36                            185.604144   \n",
              "2020-08-28 07:47:46                            185.534607   \n",
              "2020-08-28 07:47:56                            185.475006   \n",
              "2020-08-28 07:48:06                            185.375656   \n",
              "\n",
              "                     Væskelås B -> MIX B  Væskelås B -> MIX A  \\\n",
              "datetime                                                        \n",
              "2020-08-28 07:47:26                False                False   \n",
              "2020-08-28 07:47:36                False                False   \n",
              "2020-08-28 07:47:46                False                False   \n",
              "2020-08-28 07:47:56                False                False   \n",
              "2020-08-28 07:48:06                False                False   \n",
              "\n",
              "                     Væskelås A -> MIX B  Væskelås A -> MIX A  NPLUT-INND B  \\\n",
              "datetime                                                                      \n",
              "2020-08-28 07:47:26                False                False     34.984768   \n",
              "2020-08-28 07:47:36                False                False     34.995814   \n",
              "2020-08-28 07:47:46                False                False     35.006859   \n",
              "2020-08-28 07:47:56                False                False     35.017904   \n",
              "2020-08-28 07:48:06                False                False     35.028949   \n",
              "\n",
              "                     neoScattering  \n",
              "datetime                            \n",
              "2020-08-28 07:47:26         1.8150  \n",
              "2020-08-28 07:47:36         1.7160  \n",
              "2020-08-28 07:47:46         1.7565  \n",
              "2020-08-28 07:47:56         1.7805  \n",
              "2020-08-28 07:48:06         1.9390  \n",
              "\n",
              "[5 rows x 31 columns]"
            ],
            "text/html": [
              "\n",
              "  <div id=\"df-c0d475b6-2a3a-4bbb-8689-b195e9246f05\">\n",
              "    <div class=\"colab-df-container\">\n",
              "      <div>\n",
              "<style scoped>\n",
              "    .dataframe tbody tr th:only-of-type {\n",
              "        vertical-align: middle;\n",
              "    }\n",
              "\n",
              "    .dataframe tbody tr th {\n",
              "        vertical-align: top;\n",
              "    }\n",
              "\n",
              "    .dataframe thead th {\n",
              "        text-align: right;\n",
              "    }\n",
              "</style>\n",
              "<table border=\"1\" class=\"dataframe\">\n",
              "  <thead>\n",
              "    <tr style=\"text-align: right;\">\n",
              "      <th></th>\n",
              "      <th>INNDAER 1</th>\n",
              "      <th>AM-LUTVLAS A</th>\n",
              "      <th>BOR VEKT A</th>\n",
              "      <th>DOLOM VEKT A</th>\n",
              "      <th>Kalivekt A</th>\n",
              "      <th>MGO VEKT</th>\n",
              "      <th>NPLUT-INND A</th>\n",
              "      <th>SALTVEKT TT W3401</th>\n",
              "      <th>Turtallsreg. Fuge A</th>\n",
              "      <th>Temperatur mikser A1</th>\n",
              "      <th>...</th>\n",
              "      <th>Turtallsreg. Fuge B</th>\n",
              "      <th>Temperatur mikser B1</th>\n",
              "      <th>Temperatur mikser B3</th>\n",
              "      <th>Temperatur T3402 inndamping væskelås</th>\n",
              "      <th>Væskelås B -&gt; MIX B</th>\n",
              "      <th>Væskelås B -&gt; MIX A</th>\n",
              "      <th>Væskelås A -&gt; MIX B</th>\n",
              "      <th>Væskelås A -&gt; MIX A</th>\n",
              "      <th>NPLUT-INND B</th>\n",
              "      <th>neoScattering</th>\n",
              "    </tr>\n",
              "    <tr>\n",
              "      <th>datetime</th>\n",
              "      <th></th>\n",
              "      <th></th>\n",
              "      <th></th>\n",
              "      <th></th>\n",
              "      <th></th>\n",
              "      <th></th>\n",
              "      <th></th>\n",
              "      <th></th>\n",
              "      <th></th>\n",
              "      <th></th>\n",
              "      <th></th>\n",
              "      <th></th>\n",
              "      <th></th>\n",
              "      <th></th>\n",
              "      <th></th>\n",
              "      <th></th>\n",
              "      <th></th>\n",
              "      <th></th>\n",
              "      <th></th>\n",
              "      <th></th>\n",
              "      <th></th>\n",
              "    </tr>\n",
              "  </thead>\n",
              "  <tbody>\n",
              "    <tr>\n",
              "      <th>2020-08-28 07:47:26</th>\n",
              "      <td>0.789861</td>\n",
              "      <td>26.786908</td>\n",
              "      <td>12.025037</td>\n",
              "      <td>3.725291e-09</td>\n",
              "      <td>16.309496</td>\n",
              "      <td>0.554561</td>\n",
              "      <td>34.855412</td>\n",
              "      <td>41.277915</td>\n",
              "      <td>335.131053</td>\n",
              "      <td>136.057405</td>\n",
              "      <td>...</td>\n",
              "      <td>21.905319</td>\n",
              "      <td>69.378966</td>\n",
              "      <td>69.299803</td>\n",
              "      <td>185.716902</td>\n",
              "      <td>False</td>\n",
              "      <td>False</td>\n",
              "      <td>False</td>\n",
              "      <td>False</td>\n",
              "      <td>34.984768</td>\n",
              "      <td>1.8150</td>\n",
              "    </tr>\n",
              "    <tr>\n",
              "      <th>2020-08-28 07:47:36</th>\n",
              "      <td>0.789803</td>\n",
              "      <td>26.733138</td>\n",
              "      <td>12.025278</td>\n",
              "      <td>3.725291e-09</td>\n",
              "      <td>16.374894</td>\n",
              "      <td>0.541977</td>\n",
              "      <td>34.737812</td>\n",
              "      <td>41.276523</td>\n",
              "      <td>334.364126</td>\n",
              "      <td>136.013750</td>\n",
              "      <td>...</td>\n",
              "      <td>21.912941</td>\n",
              "      <td>69.374646</td>\n",
              "      <td>69.309340</td>\n",
              "      <td>185.604144</td>\n",
              "      <td>False</td>\n",
              "      <td>False</td>\n",
              "      <td>False</td>\n",
              "      <td>False</td>\n",
              "      <td>34.995814</td>\n",
              "      <td>1.7160</td>\n",
              "    </tr>\n",
              "    <tr>\n",
              "      <th>2020-08-28 07:47:46</th>\n",
              "      <td>0.789745</td>\n",
              "      <td>26.679369</td>\n",
              "      <td>12.025518</td>\n",
              "      <td>3.725291e-09</td>\n",
              "      <td>16.508825</td>\n",
              "      <td>0.574383</td>\n",
              "      <td>34.893684</td>\n",
              "      <td>41.275130</td>\n",
              "      <td>334.767441</td>\n",
              "      <td>135.965208</td>\n",
              "      <td>...</td>\n",
              "      <td>21.920563</td>\n",
              "      <td>69.370325</td>\n",
              "      <td>69.364662</td>\n",
              "      <td>185.534607</td>\n",
              "      <td>False</td>\n",
              "      <td>False</td>\n",
              "      <td>False</td>\n",
              "      <td>False</td>\n",
              "      <td>35.006859</td>\n",
              "      <td>1.7565</td>\n",
              "    </tr>\n",
              "    <tr>\n",
              "      <th>2020-08-28 07:47:56</th>\n",
              "      <td>0.789687</td>\n",
              "      <td>27.075109</td>\n",
              "      <td>12.025759</td>\n",
              "      <td>3.725291e-09</td>\n",
              "      <td>16.312698</td>\n",
              "      <td>0.590698</td>\n",
              "      <td>34.810384</td>\n",
              "      <td>41.273737</td>\n",
              "      <td>336.919200</td>\n",
              "      <td>136.001396</td>\n",
              "      <td>...</td>\n",
              "      <td>21.928184</td>\n",
              "      <td>69.366005</td>\n",
              "      <td>69.344658</td>\n",
              "      <td>185.475006</td>\n",
              "      <td>False</td>\n",
              "      <td>False</td>\n",
              "      <td>False</td>\n",
              "      <td>False</td>\n",
              "      <td>35.017904</td>\n",
              "      <td>1.7805</td>\n",
              "    </tr>\n",
              "    <tr>\n",
              "      <th>2020-08-28 07:48:06</th>\n",
              "      <td>0.789629</td>\n",
              "      <td>26.816600</td>\n",
              "      <td>12.026000</td>\n",
              "      <td>3.725291e-09</td>\n",
              "      <td>16.689440</td>\n",
              "      <td>0.563906</td>\n",
              "      <td>34.864311</td>\n",
              "      <td>41.272344</td>\n",
              "      <td>334.277055</td>\n",
              "      <td>135.857919</td>\n",
              "      <td>...</td>\n",
              "      <td>21.935806</td>\n",
              "      <td>69.361685</td>\n",
              "      <td>69.324654</td>\n",
              "      <td>185.375656</td>\n",
              "      <td>False</td>\n",
              "      <td>False</td>\n",
              "      <td>False</td>\n",
              "      <td>False</td>\n",
              "      <td>35.028949</td>\n",
              "      <td>1.9390</td>\n",
              "    </tr>\n",
              "  </tbody>\n",
              "</table>\n",
              "<p>5 rows × 31 columns</p>\n",
              "</div>\n",
              "      <button class=\"colab-df-convert\" onclick=\"convertToInteractive('df-c0d475b6-2a3a-4bbb-8689-b195e9246f05')\"\n",
              "              title=\"Convert this dataframe to an interactive table.\"\n",
              "              style=\"display:none;\">\n",
              "        \n",
              "  <svg xmlns=\"http://www.w3.org/2000/svg\" height=\"24px\"viewBox=\"0 0 24 24\"\n",
              "       width=\"24px\">\n",
              "    <path d=\"M0 0h24v24H0V0z\" fill=\"none\"/>\n",
              "    <path d=\"M18.56 5.44l.94 2.06.94-2.06 2.06-.94-2.06-.94-.94-2.06-.94 2.06-2.06.94zm-11 1L8.5 8.5l.94-2.06 2.06-.94-2.06-.94L8.5 2.5l-.94 2.06-2.06.94zm10 10l.94 2.06.94-2.06 2.06-.94-2.06-.94-.94-2.06-.94 2.06-2.06.94z\"/><path d=\"M17.41 7.96l-1.37-1.37c-.4-.4-.92-.59-1.43-.59-.52 0-1.04.2-1.43.59L10.3 9.45l-7.72 7.72c-.78.78-.78 2.05 0 2.83L4 21.41c.39.39.9.59 1.41.59.51 0 1.02-.2 1.41-.59l7.78-7.78 2.81-2.81c.8-.78.8-2.07 0-2.86zM5.41 20L4 18.59l7.72-7.72 1.47 1.35L5.41 20z\"/>\n",
              "  </svg>\n",
              "      </button>\n",
              "      \n",
              "  <style>\n",
              "    .colab-df-container {\n",
              "      display:flex;\n",
              "      flex-wrap:wrap;\n",
              "      gap: 12px;\n",
              "    }\n",
              "\n",
              "    .colab-df-convert {\n",
              "      background-color: #E8F0FE;\n",
              "      border: none;\n",
              "      border-radius: 50%;\n",
              "      cursor: pointer;\n",
              "      display: none;\n",
              "      fill: #1967D2;\n",
              "      height: 32px;\n",
              "      padding: 0 0 0 0;\n",
              "      width: 32px;\n",
              "    }\n",
              "\n",
              "    .colab-df-convert:hover {\n",
              "      background-color: #E2EBFA;\n",
              "      box-shadow: 0px 1px 2px rgba(60, 64, 67, 0.3), 0px 1px 3px 1px rgba(60, 64, 67, 0.15);\n",
              "      fill: #174EA6;\n",
              "    }\n",
              "\n",
              "    [theme=dark] .colab-df-convert {\n",
              "      background-color: #3B4455;\n",
              "      fill: #D2E3FC;\n",
              "    }\n",
              "\n",
              "    [theme=dark] .colab-df-convert:hover {\n",
              "      background-color: #434B5C;\n",
              "      box-shadow: 0px 1px 3px 1px rgba(0, 0, 0, 0.15);\n",
              "      filter: drop-shadow(0px 1px 2px rgba(0, 0, 0, 0.3));\n",
              "      fill: #FFFFFF;\n",
              "    }\n",
              "  </style>\n",
              "\n",
              "      <script>\n",
              "        const buttonEl =\n",
              "          document.querySelector('#df-c0d475b6-2a3a-4bbb-8689-b195e9246f05 button.colab-df-convert');\n",
              "        buttonEl.style.display =\n",
              "          google.colab.kernel.accessAllowed ? 'block' : 'none';\n",
              "\n",
              "        async function convertToInteractive(key) {\n",
              "          const element = document.querySelector('#df-c0d475b6-2a3a-4bbb-8689-b195e9246f05');\n",
              "          const dataTable =\n",
              "            await google.colab.kernel.invokeFunction('convertToInteractive',\n",
              "                                                     [key], {});\n",
              "          if (!dataTable) return;\n",
              "\n",
              "          const docLinkHtml = 'Like what you see? Visit the ' +\n",
              "            '<a target=\"_blank\" href=https://colab.research.google.com/notebooks/data_table.ipynb>data table notebook</a>'\n",
              "            + ' to learn more about interactive tables.';\n",
              "          element.innerHTML = '';\n",
              "          dataTable['output_type'] = 'display_data';\n",
              "          await google.colab.output.renderOutput(dataTable, element);\n",
              "          const docLink = document.createElement('div');\n",
              "          docLink.innerHTML = docLinkHtml;\n",
              "          element.appendChild(docLink);\n",
              "        }\n",
              "      </script>\n",
              "    </div>\n",
              "  </div>\n",
              "  "
            ]
          },
          "metadata": {},
          "execution_count": 3
        }
      ],
      "source": [
        "data = pd.read_csv(\"/content/drive/MyDrive/ML/2020-8-28--480hours.csv\", index_col=\"datetime\")\n",
        "data.head()"
      ]
    },
    {
      "cell_type": "markdown",
      "metadata": {
        "id": "3c3F_HxbLcRC"
      },
      "source": [
        "## Encode and Normalization"
      ]
    },
    {
      "cell_type": "markdown",
      "metadata": {
        "id": "SZMr5iBkNAHP"
      },
      "source": [
        "we will encode the columns with categorical data and normalize the data, to do so we use The MinMaxScaler function, it will encode and normalize the data in the same time\n"
      ]
    },
    {
      "cell_type": "code",
      "execution_count": null,
      "metadata": {
        "id": "B642GJWzarRh"
      },
      "outputs": [],
      "source": [
        "min_max_scaler = MinMaxScaler()\n",
        "F_data = pd.DataFrame(data = min_max_scaler.fit_transform(data), \n",
        "                  index = data.index, \n",
        "                  columns = data.columns)"
      ]
    },
    {
      "cell_type": "code",
      "execution_count": null,
      "metadata": {
        "colab": {
          "base_uri": "https://localhost:8080/",
          "height": 557
        },
        "id": "KWUukUs5ch4w",
        "outputId": "c6f9fdae-5e9e-41df-b9ab-2c46f7cb5acc"
      },
      "outputs": [
        {
          "output_type": "execute_result",
          "data": {
            "text/plain": [
              "                     INNDAER 1  AM-LUTVLAS A  BOR VEKT A  DOLOM VEKT A  \\\n",
              "datetime                                                                 \n",
              "2020-08-28 07:47:26   0.273881      0.122770    0.063098           0.0   \n",
              "2020-08-28 07:47:36   0.273754      0.122524    0.063100           0.0   \n",
              "2020-08-28 07:47:46   0.273627      0.122277    0.063101           0.0   \n",
              "2020-08-28 07:47:56   0.273501      0.124092    0.063102           0.0   \n",
              "2020-08-28 07:48:06   0.273374      0.122906    0.063103           0.0   \n",
              "\n",
              "                     Kalivekt A  MGO VEKT  NPLUT-INND A  SALTVEKT TT W3401  \\\n",
              "datetime                                                                     \n",
              "2020-08-28 07:47:26    0.571091  0.346906      0.399048           0.777079   \n",
              "2020-08-28 07:47:36    0.573382  0.344107      0.397700           0.777035   \n",
              "2020-08-28 07:47:46    0.578073  0.351314      0.399487           0.776991   \n",
              "2020-08-28 07:47:56    0.571203  0.354943      0.398532           0.776946   \n",
              "2020-08-28 07:48:06    0.584399  0.348984      0.399150           0.776902   \n",
              "\n",
              "                     Turtallsreg. Fuge A  Temperatur mikser A1  ...  \\\n",
              "datetime                                                        ...   \n",
              "2020-08-28 07:47:26             0.760483              0.690187  ...   \n",
              "2020-08-28 07:47:36             0.758733              0.689926  ...   \n",
              "2020-08-28 07:47:46             0.759653              0.689637  ...   \n",
              "2020-08-28 07:47:56             0.764564              0.689853  ...   \n",
              "2020-08-28 07:48:06             0.758534              0.688996  ...   \n",
              "\n",
              "                     Turtallsreg. Fuge B  Temperatur mikser B1  \\\n",
              "datetime                                                         \n",
              "2020-08-28 07:47:26             0.049307              0.301322   \n",
              "2020-08-28 07:47:36             0.049326              0.301296   \n",
              "2020-08-28 07:47:46             0.049345              0.301270   \n",
              "2020-08-28 07:47:56             0.049363              0.301244   \n",
              "2020-08-28 07:48:06             0.049382              0.301218   \n",
              "\n",
              "                     Temperatur mikser B3  \\\n",
              "datetime                                    \n",
              "2020-08-28 07:47:26              0.301666   \n",
              "2020-08-28 07:47:36              0.301723   \n",
              "2020-08-28 07:47:46              0.302053   \n",
              "2020-08-28 07:47:56              0.301934   \n",
              "2020-08-28 07:48:06              0.301814   \n",
              "\n",
              "                     Temperatur T3402 inndamping væskelås  \\\n",
              "datetime                                                    \n",
              "2020-08-28 07:47:26                              0.953187   \n",
              "2020-08-28 07:47:36                              0.952538   \n",
              "2020-08-28 07:47:46                              0.952138   \n",
              "2020-08-28 07:47:56                              0.951795   \n",
              "2020-08-28 07:48:06                              0.951223   \n",
              "\n",
              "                     Væskelås B -> MIX B  Væskelås B -> MIX A  \\\n",
              "datetime                                                        \n",
              "2020-08-28 07:47:26                  0.0                  0.0   \n",
              "2020-08-28 07:47:36                  0.0                  0.0   \n",
              "2020-08-28 07:47:46                  0.0                  0.0   \n",
              "2020-08-28 07:47:56                  0.0                  0.0   \n",
              "2020-08-28 07:48:06                  0.0                  0.0   \n",
              "\n",
              "                     Væskelås A -> MIX B  Væskelås A -> MIX A  NPLUT-INND B  \\\n",
              "datetime                                                                      \n",
              "2020-08-28 07:47:26                  0.0                  0.0      0.416806   \n",
              "2020-08-28 07:47:36                  0.0                  0.0      0.416938   \n",
              "2020-08-28 07:47:46                  0.0                  0.0      0.417070   \n",
              "2020-08-28 07:47:56                  0.0                  0.0      0.417202   \n",
              "2020-08-28 07:48:06                  0.0                  0.0      0.417333   \n",
              "\n",
              "                     neoScattering  \n",
              "datetime                            \n",
              "2020-08-28 07:47:26       0.193827  \n",
              "2020-08-28 07:47:36       0.184064  \n",
              "2020-08-28 07:47:46       0.188058  \n",
              "2020-08-28 07:47:56       0.190425  \n",
              "2020-08-28 07:48:06       0.206055  \n",
              "\n",
              "[5 rows x 31 columns]"
            ],
            "text/html": [
              "\n",
              "  <div id=\"df-9656def0-1d72-40f8-8a6b-e0232fd740b0\">\n",
              "    <div class=\"colab-df-container\">\n",
              "      <div>\n",
              "<style scoped>\n",
              "    .dataframe tbody tr th:only-of-type {\n",
              "        vertical-align: middle;\n",
              "    }\n",
              "\n",
              "    .dataframe tbody tr th {\n",
              "        vertical-align: top;\n",
              "    }\n",
              "\n",
              "    .dataframe thead th {\n",
              "        text-align: right;\n",
              "    }\n",
              "</style>\n",
              "<table border=\"1\" class=\"dataframe\">\n",
              "  <thead>\n",
              "    <tr style=\"text-align: right;\">\n",
              "      <th></th>\n",
              "      <th>INNDAER 1</th>\n",
              "      <th>AM-LUTVLAS A</th>\n",
              "      <th>BOR VEKT A</th>\n",
              "      <th>DOLOM VEKT A</th>\n",
              "      <th>Kalivekt A</th>\n",
              "      <th>MGO VEKT</th>\n",
              "      <th>NPLUT-INND A</th>\n",
              "      <th>SALTVEKT TT W3401</th>\n",
              "      <th>Turtallsreg. Fuge A</th>\n",
              "      <th>Temperatur mikser A1</th>\n",
              "      <th>...</th>\n",
              "      <th>Turtallsreg. Fuge B</th>\n",
              "      <th>Temperatur mikser B1</th>\n",
              "      <th>Temperatur mikser B3</th>\n",
              "      <th>Temperatur T3402 inndamping væskelås</th>\n",
              "      <th>Væskelås B -&gt; MIX B</th>\n",
              "      <th>Væskelås B -&gt; MIX A</th>\n",
              "      <th>Væskelås A -&gt; MIX B</th>\n",
              "      <th>Væskelås A -&gt; MIX A</th>\n",
              "      <th>NPLUT-INND B</th>\n",
              "      <th>neoScattering</th>\n",
              "    </tr>\n",
              "    <tr>\n",
              "      <th>datetime</th>\n",
              "      <th></th>\n",
              "      <th></th>\n",
              "      <th></th>\n",
              "      <th></th>\n",
              "      <th></th>\n",
              "      <th></th>\n",
              "      <th></th>\n",
              "      <th></th>\n",
              "      <th></th>\n",
              "      <th></th>\n",
              "      <th></th>\n",
              "      <th></th>\n",
              "      <th></th>\n",
              "      <th></th>\n",
              "      <th></th>\n",
              "      <th></th>\n",
              "      <th></th>\n",
              "      <th></th>\n",
              "      <th></th>\n",
              "      <th></th>\n",
              "      <th></th>\n",
              "    </tr>\n",
              "  </thead>\n",
              "  <tbody>\n",
              "    <tr>\n",
              "      <th>2020-08-28 07:47:26</th>\n",
              "      <td>0.273881</td>\n",
              "      <td>0.122770</td>\n",
              "      <td>0.063098</td>\n",
              "      <td>0.0</td>\n",
              "      <td>0.571091</td>\n",
              "      <td>0.346906</td>\n",
              "      <td>0.399048</td>\n",
              "      <td>0.777079</td>\n",
              "      <td>0.760483</td>\n",
              "      <td>0.690187</td>\n",
              "      <td>...</td>\n",
              "      <td>0.049307</td>\n",
              "      <td>0.301322</td>\n",
              "      <td>0.301666</td>\n",
              "      <td>0.953187</td>\n",
              "      <td>0.0</td>\n",
              "      <td>0.0</td>\n",
              "      <td>0.0</td>\n",
              "      <td>0.0</td>\n",
              "      <td>0.416806</td>\n",
              "      <td>0.193827</td>\n",
              "    </tr>\n",
              "    <tr>\n",
              "      <th>2020-08-28 07:47:36</th>\n",
              "      <td>0.273754</td>\n",
              "      <td>0.122524</td>\n",
              "      <td>0.063100</td>\n",
              "      <td>0.0</td>\n",
              "      <td>0.573382</td>\n",
              "      <td>0.344107</td>\n",
              "      <td>0.397700</td>\n",
              "      <td>0.777035</td>\n",
              "      <td>0.758733</td>\n",
              "      <td>0.689926</td>\n",
              "      <td>...</td>\n",
              "      <td>0.049326</td>\n",
              "      <td>0.301296</td>\n",
              "      <td>0.301723</td>\n",
              "      <td>0.952538</td>\n",
              "      <td>0.0</td>\n",
              "      <td>0.0</td>\n",
              "      <td>0.0</td>\n",
              "      <td>0.0</td>\n",
              "      <td>0.416938</td>\n",
              "      <td>0.184064</td>\n",
              "    </tr>\n",
              "    <tr>\n",
              "      <th>2020-08-28 07:47:46</th>\n",
              "      <td>0.273627</td>\n",
              "      <td>0.122277</td>\n",
              "      <td>0.063101</td>\n",
              "      <td>0.0</td>\n",
              "      <td>0.578073</td>\n",
              "      <td>0.351314</td>\n",
              "      <td>0.399487</td>\n",
              "      <td>0.776991</td>\n",
              "      <td>0.759653</td>\n",
              "      <td>0.689637</td>\n",
              "      <td>...</td>\n",
              "      <td>0.049345</td>\n",
              "      <td>0.301270</td>\n",
              "      <td>0.302053</td>\n",
              "      <td>0.952138</td>\n",
              "      <td>0.0</td>\n",
              "      <td>0.0</td>\n",
              "      <td>0.0</td>\n",
              "      <td>0.0</td>\n",
              "      <td>0.417070</td>\n",
              "      <td>0.188058</td>\n",
              "    </tr>\n",
              "    <tr>\n",
              "      <th>2020-08-28 07:47:56</th>\n",
              "      <td>0.273501</td>\n",
              "      <td>0.124092</td>\n",
              "      <td>0.063102</td>\n",
              "      <td>0.0</td>\n",
              "      <td>0.571203</td>\n",
              "      <td>0.354943</td>\n",
              "      <td>0.398532</td>\n",
              "      <td>0.776946</td>\n",
              "      <td>0.764564</td>\n",
              "      <td>0.689853</td>\n",
              "      <td>...</td>\n",
              "      <td>0.049363</td>\n",
              "      <td>0.301244</td>\n",
              "      <td>0.301934</td>\n",
              "      <td>0.951795</td>\n",
              "      <td>0.0</td>\n",
              "      <td>0.0</td>\n",
              "      <td>0.0</td>\n",
              "      <td>0.0</td>\n",
              "      <td>0.417202</td>\n",
              "      <td>0.190425</td>\n",
              "    </tr>\n",
              "    <tr>\n",
              "      <th>2020-08-28 07:48:06</th>\n",
              "      <td>0.273374</td>\n",
              "      <td>0.122906</td>\n",
              "      <td>0.063103</td>\n",
              "      <td>0.0</td>\n",
              "      <td>0.584399</td>\n",
              "      <td>0.348984</td>\n",
              "      <td>0.399150</td>\n",
              "      <td>0.776902</td>\n",
              "      <td>0.758534</td>\n",
              "      <td>0.688996</td>\n",
              "      <td>...</td>\n",
              "      <td>0.049382</td>\n",
              "      <td>0.301218</td>\n",
              "      <td>0.301814</td>\n",
              "      <td>0.951223</td>\n",
              "      <td>0.0</td>\n",
              "      <td>0.0</td>\n",
              "      <td>0.0</td>\n",
              "      <td>0.0</td>\n",
              "      <td>0.417333</td>\n",
              "      <td>0.206055</td>\n",
              "    </tr>\n",
              "  </tbody>\n",
              "</table>\n",
              "<p>5 rows × 31 columns</p>\n",
              "</div>\n",
              "      <button class=\"colab-df-convert\" onclick=\"convertToInteractive('df-9656def0-1d72-40f8-8a6b-e0232fd740b0')\"\n",
              "              title=\"Convert this dataframe to an interactive table.\"\n",
              "              style=\"display:none;\">\n",
              "        \n",
              "  <svg xmlns=\"http://www.w3.org/2000/svg\" height=\"24px\"viewBox=\"0 0 24 24\"\n",
              "       width=\"24px\">\n",
              "    <path d=\"M0 0h24v24H0V0z\" fill=\"none\"/>\n",
              "    <path d=\"M18.56 5.44l.94 2.06.94-2.06 2.06-.94-2.06-.94-.94-2.06-.94 2.06-2.06.94zm-11 1L8.5 8.5l.94-2.06 2.06-.94-2.06-.94L8.5 2.5l-.94 2.06-2.06.94zm10 10l.94 2.06.94-2.06 2.06-.94-2.06-.94-.94-2.06-.94 2.06-2.06.94z\"/><path d=\"M17.41 7.96l-1.37-1.37c-.4-.4-.92-.59-1.43-.59-.52 0-1.04.2-1.43.59L10.3 9.45l-7.72 7.72c-.78.78-.78 2.05 0 2.83L4 21.41c.39.39.9.59 1.41.59.51 0 1.02-.2 1.41-.59l7.78-7.78 2.81-2.81c.8-.78.8-2.07 0-2.86zM5.41 20L4 18.59l7.72-7.72 1.47 1.35L5.41 20z\"/>\n",
              "  </svg>\n",
              "      </button>\n",
              "      \n",
              "  <style>\n",
              "    .colab-df-container {\n",
              "      display:flex;\n",
              "      flex-wrap:wrap;\n",
              "      gap: 12px;\n",
              "    }\n",
              "\n",
              "    .colab-df-convert {\n",
              "      background-color: #E8F0FE;\n",
              "      border: none;\n",
              "      border-radius: 50%;\n",
              "      cursor: pointer;\n",
              "      display: none;\n",
              "      fill: #1967D2;\n",
              "      height: 32px;\n",
              "      padding: 0 0 0 0;\n",
              "      width: 32px;\n",
              "    }\n",
              "\n",
              "    .colab-df-convert:hover {\n",
              "      background-color: #E2EBFA;\n",
              "      box-shadow: 0px 1px 2px rgba(60, 64, 67, 0.3), 0px 1px 3px 1px rgba(60, 64, 67, 0.15);\n",
              "      fill: #174EA6;\n",
              "    }\n",
              "\n",
              "    [theme=dark] .colab-df-convert {\n",
              "      background-color: #3B4455;\n",
              "      fill: #D2E3FC;\n",
              "    }\n",
              "\n",
              "    [theme=dark] .colab-df-convert:hover {\n",
              "      background-color: #434B5C;\n",
              "      box-shadow: 0px 1px 3px 1px rgba(0, 0, 0, 0.15);\n",
              "      filter: drop-shadow(0px 1px 2px rgba(0, 0, 0, 0.3));\n",
              "      fill: #FFFFFF;\n",
              "    }\n",
              "  </style>\n",
              "\n",
              "      <script>\n",
              "        const buttonEl =\n",
              "          document.querySelector('#df-9656def0-1d72-40f8-8a6b-e0232fd740b0 button.colab-df-convert');\n",
              "        buttonEl.style.display =\n",
              "          google.colab.kernel.accessAllowed ? 'block' : 'none';\n",
              "\n",
              "        async function convertToInteractive(key) {\n",
              "          const element = document.querySelector('#df-9656def0-1d72-40f8-8a6b-e0232fd740b0');\n",
              "          const dataTable =\n",
              "            await google.colab.kernel.invokeFunction('convertToInteractive',\n",
              "                                                     [key], {});\n",
              "          if (!dataTable) return;\n",
              "\n",
              "          const docLinkHtml = 'Like what you see? Visit the ' +\n",
              "            '<a target=\"_blank\" href=https://colab.research.google.com/notebooks/data_table.ipynb>data table notebook</a>'\n",
              "            + ' to learn more about interactive tables.';\n",
              "          element.innerHTML = '';\n",
              "          dataTable['output_type'] = 'display_data';\n",
              "          await google.colab.output.renderOutput(dataTable, element);\n",
              "          const docLink = document.createElement('div');\n",
              "          docLink.innerHTML = docLinkHtml;\n",
              "          element.appendChild(docLink);\n",
              "        }\n",
              "      </script>\n",
              "    </div>\n",
              "  </div>\n",
              "  "
            ]
          },
          "metadata": {},
          "execution_count": 5
        }
      ],
      "source": [
        "F_data.head()"
      ]
    },
    {
      "cell_type": "markdown",
      "metadata": {
        "id": "jC_je9k-M1GI"
      },
      "source": [
        "## Create inputs and outputs"
      ]
    },
    {
      "cell_type": "code",
      "execution_count": null,
      "metadata": {
        "id": "InPR983Cenm1"
      },
      "outputs": [],
      "source": [
        "inputs  = F_data.iloc[:,:] # read all data as input\n",
        "outputs = F_data.iloc[:,-1] # Use the last Columns 'neoScattering' as output"
      ]
    },
    {
      "cell_type": "code",
      "execution_count": null,
      "metadata": {
        "colab": {
          "base_uri": "https://localhost:8080/"
        },
        "id": "Xv2vK20mhbm0",
        "outputId": "fad25c76-1b2e-433b-a994-1acfa195edda"
      },
      "outputs": [
        {
          "output_type": "stream",
          "name": "stdout",
          "text": [
            "training data size :  (108791, 31) (108791,)\n",
            "Validation data size :  (46626, 31) (46626,)\n",
            "Testing data size :  (17269, 31) (17269,)\n"
          ]
        }
      ],
      "source": [
        "trsize = int(len(inputs)*0.9) # the size of training Data\n",
        "ts_size = len(inputs)-trsize  # the size of testing Data\n",
        "\n",
        "Trai_Inp = inputs[0:int(trsize*0.7)]   \n",
        "Tr_A_Out = outputs[0:int(trsize*0.7)]\n",
        "\n",
        "valid_inp = inputs[int(trsize*0.7):trsize]\n",
        "valid_out = outputs[int(trsize*0.7):trsize]\n",
        "\n",
        "Test_Inp = inputs[trsize:]\n",
        "Ts_A_out = outputs[trsize:]\n",
        "\n",
        "print('training data size : ',Trai_Inp.shape,Tr_A_Out.shape)\n",
        "print('Validation data size : ',valid_inp.shape,valid_out.shape)\n",
        "print('Testing data size : ',Test_Inp.shape,Ts_A_out.shape)"
      ]
    },
    {
      "cell_type": "code",
      "execution_count": null,
      "metadata": {
        "id": "wkgiBFC6iRN_"
      },
      "outputs": [],
      "source": [
        "def create_dataset(data_in,out, time_step = 10):\n",
        "\t\"\"\"\n",
        "\tthis function will prepare the data to be ready to feed to The Neural network, \n",
        "\tit will use 10 previous inputs records and use the 11th  neoScattering records as output\n",
        "\t\"\"\"\n",
        "\tdataX, dataY = [], []\n",
        "\tfor i in range(len(out)-time_step-2):\n",
        "\t\t  \n",
        "\t\t  x = data_in[i:(i+time_step)] ###i=0, 0,1,2,3-----99   100\n",
        "\t\t  y = out[i+time_step+1]\n",
        "\t\n",
        "\t\t  dataX.append(x)\n",
        "\t\t  dataY.append(y)\n",
        "\t\n",
        "\treturn np.array(dataX), np.array(dataY)"
      ]
    },
    {
      "cell_type": "code",
      "execution_count": null,
      "metadata": {
        "id": "l-vMFMK6iUq3"
      },
      "outputs": [],
      "source": [
        "inpTr ,Out_tr  = create_dataset(Trai_Inp , Tr_A_Out,  time_step = 10)\n",
        "inpVal,out_val = create_dataset(valid_inp, valid_out, time_step = 10)\n",
        "inpTs ,Out_ts  = create_dataset(Test_Inp , Ts_A_out,  time_step = 10)"
      ]
    },
    {
      "cell_type": "markdown",
      "metadata": {
        "id": "MYSXiXMyL96Q"
      },
      "source": [
        "## Build Model"
      ]
    },
    {
      "cell_type": "markdown",
      "metadata": {
        "id": "e0m88q8VMMXR"
      },
      "source": [
        "### Model Architecture"
      ]
    },
    {
      "cell_type": "markdown",
      "metadata": {
        "id": "qIzZ2Wwzy-mj"
      },
      "source": [
        "in order to get the best results i used the model in the article [here](https://arxiv.org/pdf/2105.00707.pdf) "
      ]
    },
    {
      "cell_type": "code",
      "execution_count": null,
      "metadata": {
        "id": "OSqQ1Eg8MKQ6"
      },
      "outputs": [],
      "source": [
        "n_timesteps, n_features = inpTr.shape[1], inpTr.shape[2]\n",
        "inp = Input(shape=(n_timesteps,n_features,1),name='inp')\n",
        "feat = Conv1D(filters = 16, kernel_size = 1, strides = 1, padding = 'same', use_bias = False, activation ='relu')(inp)\n",
        "\n",
        "x1 = Conv1D(filters = 16, kernel_size = 1, strides = 1, padding = 'same', use_bias = False,activation ='relu')(feat)\n",
        "x2 = Conv1D(filters = 16, kernel_size = 2, strides = 1, padding = 'same', use_bias = False,activation ='relu')(feat)\n",
        "x3 = Conv1D(filters = 16, kernel_size = 3, strides = 1, padding = 'same', use_bias = False,activation ='relu')(feat)\n",
        "\n",
        "out = add([feat,x1,x2,x3])\n",
        "\n",
        "out = Conv2D(filters = 32, kernel_size = 1, strides = 1, padding = 'same', use_bias = False,activation='relu')(out)\n",
        "out = Conv2D(filters=64, kernel_size=1,padding='same',activation='relu')(out)\n",
        "\n",
        "out2= Conv2D(filters=64, kernel_size=1,padding='same',activation='relu')(inp)\n",
        "out = add([out2,out])\n",
        "\n",
        "out = Flatten()(out)\n",
        "out = tf.keras.layers.Reshape((19840,1))(out)\n",
        "\n",
        "\n",
        "out = LSTM(50,activity_regularizer=l2(0.0000001))(out)\n",
        "out = Dense(50) (out)\n",
        "\n",
        "out = Dense(100) (out)\n",
        "\n",
        "out = tf.keras.layers.Dropout(0.3)(out)\n",
        "out = Dense(20) (out)\n",
        "\n",
        "out = tf.keras.layers.Dropout(0.1)(out)\n",
        "out = Dense(1,activation = 'relu') (out)"
      ]
    },
    {
      "cell_type": "markdown",
      "metadata": {
        "id": "BSMw34GFMQlA"
      },
      "source": [
        "### Model compile, loss and plot"
      ]
    },
    {
      "cell_type": "code",
      "execution_count": null,
      "metadata": {
        "colab": {
          "base_uri": "https://localhost:8080/"
        },
        "id": "KBjoyqD1MplF",
        "outputId": "a8a7a476-90ad-4496-be77-4820b09b55ad"
      },
      "outputs": [
        {
          "output_type": "stream",
          "name": "stdout",
          "text": [
            "Model: \"model\"\n",
            "__________________________________________________________________________________________________\n",
            " Layer (type)                   Output Shape         Param #     Connected to                     \n",
            "==================================================================================================\n",
            " inp (InputLayer)               [(None, 10, 31, 1)]  0           []                               \n",
            "                                                                                                  \n",
            " conv1d (Conv1D)                (None, 10, 31, 16)   16          ['inp[0][0]']                    \n",
            "                                                                                                  \n",
            " conv1d_1 (Conv1D)              (None, 10, 31, 16)   256         ['conv1d[0][0]']                 \n",
            "                                                                                                  \n",
            " conv1d_2 (Conv1D)              (None, 10, 31, 16)   512         ['conv1d[0][0]']                 \n",
            "                                                                                                  \n",
            " conv1d_3 (Conv1D)              (None, 10, 31, 16)   768         ['conv1d[0][0]']                 \n",
            "                                                                                                  \n",
            " add (Add)                      (None, 10, 31, 16)   0           ['conv1d[0][0]',                 \n",
            "                                                                  'conv1d_1[0][0]',               \n",
            "                                                                  'conv1d_2[0][0]',               \n",
            "                                                                  'conv1d_3[0][0]']               \n",
            "                                                                                                  \n",
            " conv2d (Conv2D)                (None, 10, 31, 32)   512         ['add[0][0]']                    \n",
            "                                                                                                  \n",
            " conv2d_2 (Conv2D)              (None, 10, 31, 64)   128         ['inp[0][0]']                    \n",
            "                                                                                                  \n",
            " conv2d_1 (Conv2D)              (None, 10, 31, 64)   2112        ['conv2d[0][0]']                 \n",
            "                                                                                                  \n",
            " add_1 (Add)                    (None, 10, 31, 64)   0           ['conv2d_2[0][0]',               \n",
            "                                                                  'conv2d_1[0][0]']               \n",
            "                                                                                                  \n",
            " flatten (Flatten)              (None, 19840)        0           ['add_1[0][0]']                  \n",
            "                                                                                                  \n",
            " reshape (Reshape)              (None, 19840, 1)     0           ['flatten[0][0]']                \n",
            "                                                                                                  \n",
            " lstm (LSTM)                    (None, 50)           10400       ['reshape[0][0]']                \n",
            "                                                                                                  \n",
            " dense (Dense)                  (None, 50)           2550        ['lstm[0][0]']                   \n",
            "                                                                                                  \n",
            " dense_1 (Dense)                (None, 100)          5100        ['dense[0][0]']                  \n",
            "                                                                                                  \n",
            " dropout (Dropout)              (None, 100)          0           ['dense_1[0][0]']                \n",
            "                                                                                                  \n",
            " dense_2 (Dense)                (None, 20)           2020        ['dropout[0][0]']                \n",
            "                                                                                                  \n",
            " dropout_1 (Dropout)            (None, 20)           0           ['dense_2[0][0]']                \n",
            "                                                                                                  \n",
            " dense_3 (Dense)                (None, 1)            21          ['dropout_1[0][0]']              \n",
            "                                                                                                  \n",
            "==================================================================================================\n",
            "Total params: 24,395\n",
            "Trainable params: 24,395\n",
            "Non-trainable params: 0\n",
            "__________________________________________________________________________________________________\n"
          ]
        }
      ],
      "source": [
        "model = Model(inputs = [inp] ,outputs = [out]) # \n",
        "model.compile(loss='mse', optimizer='adam', metrics=['mse',\"mae\"])\n",
        "model.summary()"
      ]
    },
    {
      "cell_type": "markdown",
      "metadata": {
        "id": "smEwhoqmMWnY"
      },
      "source": [
        "## Train and evaluation the model"
      ]
    },
    {
      "cell_type": "markdown",
      "metadata": {
        "id": "fEw4DM0yMhOM"
      },
      "source": [
        "### Train"
      ]
    },
    {
      "cell_type": "code",
      "execution_count": null,
      "metadata": {
        "colab": {
          "base_uri": "https://localhost:8080/"
        },
        "id": "PT-S98AaMq2y",
        "outputId": "0f5b6f4b-84eb-45c0-b3d3-f0fb380c632e"
      },
      "outputs": [
        {
          "output_type": "stream",
          "name": "stdout",
          "text": [
            "Epoch 1/2\n",
            "425/425 [==============================] - 440s 1s/step - loss: 0.0027 - mse: 0.0027 - mae: 0.0329 - val_loss: 9.8174e-04 - val_mse: 9.8174e-04 - val_mae: 0.0168\n",
            "Epoch 2/2\n",
            "425/425 [==============================] - 413s 971ms/step - loss: 0.0015 - mse: 0.0015 - mae: 0.0250 - val_loss: 0.0010 - val_mse: 0.0010 - val_mae: 0.0197\n"
          ]
        },
        {
          "output_type": "execute_result",
          "data": {
            "text/plain": [
              "<keras.callbacks.History at 0x7fa146fc9e90>"
            ]
          },
          "metadata": {},
          "execution_count": 12
        }
      ],
      "source": [
        "model.fit(inpTr ,Out_tr,validation_data=(inpVal,out_val),epochs = 2, batch_size=256, verbose=1)"
      ]
    },
    {
      "cell_type": "markdown",
      "metadata": {
        "id": "ZxlrAVToMkXU"
      },
      "source": [
        "### Evaluation"
      ]
    },
    {
      "cell_type": "markdown",
      "metadata": {
        "id": "_6lE6EnSLqwG"
      },
      "source": [
        "we will pick randomly 100 inputs and predict thier outputs then plot the result with the ground truth"
      ]
    },
    {
      "cell_type": "code",
      "execution_count": null,
      "metadata": {
        "id": "AzlkaUQKJwee"
      },
      "outputs": [],
      "source": [
        "Size = 100 \n",
        "ix     = np.random.randint(0, inpTs.shape[0], Size)\n",
        "X      = inpTs[ix]  # The 100 random inputs\n",
        "Y = np.expand_dims(Out_ts[ix],1) # The ground truth Y of the random inputs"
      ]
    },
    {
      "cell_type": "code",
      "execution_count": null,
      "metadata": {
        "id": "L90mUeQKMuqR"
      },
      "outputs": [],
      "source": [
        "# Prediction using The model and reshape to perform inverse Minmax transform\n",
        "predicted_results = np.reshape(model.predict(X),(Size,1))"
      ]
    },
    {
      "cell_type": "code",
      "execution_count": null,
      "metadata": {
        "colab": {
          "base_uri": "https://localhost:8080/"
        },
        "id": "b5Lvs1jTQG06",
        "outputId": "82438ab1-8851-4a50-dcde-fa88bda80910"
      },
      "outputs": [
        {
          "output_type": "execute_result",
          "data": {
            "text/plain": [
              "MinMaxScaler()"
            ]
          },
          "metadata": {},
          "execution_count": 15
        }
      ],
      "source": [
        "Inverse = MinMaxScaler() # inverse minmax transform for Y\n",
        "Inverse.fit(np.expand_dims(data['neoScattering'],-1))"
      ]
    },
    {
      "cell_type": "code",
      "execution_count": null,
      "metadata": {
        "colab": {
          "base_uri": "https://localhost:8080/",
          "height": 72
        },
        "id": "CBxzOMkZHM7J",
        "outputId": "3c2da227-00c4-445a-c031-32591dc97c66"
      },
      "outputs": [
        {
          "output_type": "display_data",
          "data": {
            "text/plain": [
              "<Figure size 432x288 with 1 Axes>"
            ],
            "image/png": "[encoded data removed]"
          },
          "metadata": {
            "needs_background": "light"
          }
        },
        {
          "output_type": "display_data",
          "data": {
            "text/plain": [
              "<Figure size 1080x360 with 0 Axes>"
            ]
          },
          "metadata": {}
        }
      ],
      "source": [
        "import matplotlib.pyplot as plt\n",
        "plt.plot(Inverse.inverse_transform(Y),'g--', label=\"original\")\n",
        "plt.plot(Inverse.inverse_transform(predicted_results), label = \"Predicted\")\n",
        "plt.legend()\n",
        "plt.figure(figsize=(15,5))\n",
        "plt.show()"
      ]
    },
    {
      "cell_type": "code",
      "execution_count": null,
      "metadata": {
        "colab": {
          "base_uri": "https://localhost:8080/"
        },
        "id": "HjmHmxypHdpF",
        "outputId": "ea93d399-1623-4393-89df-a29967eb8b22"
      },
      "outputs": [
        {
          "output_type": "stream",
          "name": "stdout",
          "text": [
            "Mean squered error = 0.00014808698324486613\n",
            "Mean Absolute error = 0.009895826689898968\n"
          ]
        }
      ],
      "source": [
        "mse = tf.keras.losses.MeanSquaredError() \n",
        "mae = tf.keras.losses.MeanAbsoluteError()\n",
        "print(f\"Mean squered error = {mse(predicted_results,Y)}\")\n",
        "print(f\"Mean Absolute error = {mae(predicted_results,Y)}\")"
      ]
    },
    {
      "cell_type": "code",
      "execution_count": null,
      "metadata": {
        "id": "dauxV510phhh"
      },
      "outputs": [],
      "source": [
        ""
      ]
    }
  ],
  "metadata": {
    "accelerator": "GPU",
    "colab": {
      "name": "amarjaganjac_Model_Window_10_previous_records__LSTM.ipynb",
      "provenance": [],
      "include_colab_link": true
    },
    "kernelspec": {
      "display_name": "Python 3 (ipykernel)",
      "language": "python",
      "name": "python3"
    },
    "language_info": {
      "codemirror_mode": {
        "name": "ipython",
        "version": 3
      },
      "file_extension": ".py",
      "mimetype": "text/x-python",
      "name": "python",
      "nbconvert_exporter": "python",
      "pygments_lexer": "ipython3",
      "version": "3.9.7"
    }
  },
  "nbformat": 4,
  "nbformat_minor": 0
}