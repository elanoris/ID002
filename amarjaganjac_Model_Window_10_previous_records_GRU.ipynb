{
  "cells": [
    {
      "cell_type": "markdown",
      "metadata": {
        "id": "view-in-github",
        "colab_type": "text"
      },
      "source": [
        "<a href=\"https://colab.research.google.com/github/elanoris/ID002/blob/main/amarjaganjac_Model_Window_10_previous_records_GRU.ipynb\" target=\"_parent\"><img src=\"https://colab.research.google.com/assets/colab-badge.svg\" alt=\"Open In Colab\"/></a>"
      ]
    },
    {
      "cell_type": "markdown",
      "metadata": {
        "id": "Aba09r_0LTHR"
      },
      "source": [
        "## Import Library"
      ]
    },
    {
      "cell_type": "code",
      "execution_count": null,
      "metadata": {
        "id": "R5yOBk0uclb0",
        "colab": {
          "base_uri": "https://localhost:8080/"
        },
        "outputId": "1451a0c1-e074-46a7-bfc6-875ef2ac6fb2"
      },
      "outputs": [
        {
          "output_type": "stream",
          "name": "stdout",
          "text": [
            "Drive already mounted at /content/drive; to attempt to forcibly remount, call drive.mount(\"/content/drive\", force_remount=True).\n"
          ]
        }
      ],
      "source": [
        "import pandas as pd\n",
        "import numpy as np\n",
        "import tensorflow as tf\n",
        "from keras.layers import Input,Conv1D, Conv2D, ReLU, Concatenate,LSTM,Dense,Flatten,add,TimeDistributed,MaxPool2D, GRU\n",
        "from keras import Sequential,Model,models\n",
        "from keras.regularizers import l2\n",
        "from sklearn.preprocessing import MinMaxScaler\n",
        "import matplotlib.pyplot as plt"
      ]
    },
    {
      "cell_type": "code",
      "source": [
        "from google.colab import drive\n",
        "drive.mount('/content/drive')"
      ],
      "metadata": {
        "id": "RI3ec4CVFgcx"
      },
      "execution_count": null,
      "outputs": []
    },
    {
      "cell_type": "markdown",
      "metadata": {
        "id": "rFGRz8A0LXoz"
      },
      "source": [
        "## Read Dataset"
      ]
    },
    {
      "cell_type": "code",
      "execution_count": null,
      "metadata": {
        "colab": {
          "base_uri": "https://localhost:8080/",
          "height": 557
        },
        "id": "IOO4TXYYJJxF",
        "outputId": "ee3a42e7-7014-4235-8b27-dccf75c3f4df"
      },
      "outputs": [
        {
          "output_type": "execute_result",
          "data": {
            "text/plain": [
              "                     INNDAER 1  AM-LUTVLAS A  BOR VEKT A  DOLOM VEKT A  \\\n",
              "datetime                                                                 \n",
              "2020-09-22 08:56:06   0.781092     26.519396    4.629490      0.015649   \n",
              "2020-09-22 08:56:16   0.780581     26.876701    4.629533      0.015649   \n",
              "2020-09-22 08:56:26   0.780071     26.841930    4.629576      0.015650   \n",
              "2020-09-22 08:56:36   0.779006     26.914482    4.629619      0.015650   \n",
              "2020-09-22 08:56:46   0.779640     26.974942    4.629654      0.015650   \n",
              "\n",
              "                     Kalivekt A  MGO VEKT  NPLUT-INND A  SALTVEKT TT W3401  \\\n",
              "datetime                                                                     \n",
              "2020-09-22 08:56:06    0.635937  0.095390     30.039738          40.477000   \n",
              "2020-09-22 08:56:16    0.644175  0.096653     29.894164          40.478285   \n",
              "2020-09-22 08:56:26    0.652414  0.097916     29.888657          40.479571   \n",
              "2020-09-22 08:56:36    0.660653  0.099179     29.815544          40.480857   \n",
              "2020-09-22 08:56:46    0.667518  0.100231     29.799110          40.481928   \n",
              "\n",
              "                     Turtallsreg. Fuge A  Temperatur mikser A1  ...  \\\n",
              "datetime                                                        ...   \n",
              "2020-09-22 08:56:06           324.442160             41.287181  ...   \n",
              "2020-09-22 08:56:16           324.216285             41.346787  ...   \n",
              "2020-09-22 08:56:26           323.990409             42.271664  ...   \n",
              "2020-09-22 08:56:36           325.125764             54.836514  ...   \n",
              "2020-09-22 08:56:46           325.325733             79.778458  ...   \n",
              "\n",
              "                     Turtallsreg. Fuge B  Temperatur mikser B1  \\\n",
              "datetime                                                         \n",
              "2020-09-22 08:56:06           324.372223            113.223134   \n",
              "2020-09-22 08:56:16           324.632507            112.656876   \n",
              "2020-09-22 08:56:26           323.534198            112.142281   \n",
              "2020-09-22 08:56:36           324.473541            111.643585   \n",
              "2020-09-22 08:56:46           324.473541            111.238269   \n",
              "\n",
              "                     Temperatur mikser B3  \\\n",
              "datetime                                    \n",
              "2020-09-22 08:56:06            112.283353   \n",
              "2020-09-22 08:56:16            111.810486   \n",
              "2020-09-22 08:56:26            111.307810   \n",
              "2020-09-22 08:56:36            110.777321   \n",
              "2020-09-22 08:56:46            110.391874   \n",
              "\n",
              "                     Temperatur T3402 inndamping væskelås  \\\n",
              "datetime                                                    \n",
              "2020-09-22 08:56:06                            184.272961   \n",
              "2020-09-22 08:56:16                            184.408853   \n",
              "2020-09-22 08:56:26                            184.532822   \n",
              "2020-09-22 08:56:36                            184.597794   \n",
              "2020-09-22 08:56:46                            184.642502   \n",
              "\n",
              "                     Væskelås B -> MIX B  Væskelås B -> MIX A  \\\n",
              "datetime                                                        \n",
              "2020-09-22 08:56:06                False                False   \n",
              "2020-09-22 08:56:16                False                 True   \n",
              "2020-09-22 08:56:26                False                 True   \n",
              "2020-09-22 08:56:36                False                 True   \n",
              "2020-09-22 08:56:46                False                 True   \n",
              "\n",
              "                     Væskelås A -> MIX B  Væskelås A -> MIX A  NPLUT-INND B  \\\n",
              "datetime                                                                      \n",
              "2020-09-22 08:56:06                False                False     30.040635   \n",
              "2020-09-22 08:56:16                False                False     30.086357   \n",
              "2020-09-22 08:56:26                False                False     30.132080   \n",
              "2020-09-22 08:56:36                False                False     30.117502   \n",
              "2020-09-22 08:56:46                False                False     30.095304   \n",
              "\n",
              "                     neoScattering  \n",
              "datetime                            \n",
              "2020-09-22 08:56:06       2.327032  \n",
              "2020-09-22 08:56:16       2.327000  \n",
              "2020-09-22 08:56:26       2.004000  \n",
              "2020-09-22 08:56:36       1.788500  \n",
              "2020-09-22 08:56:46       1.991000  \n",
              "\n",
              "[5 rows x 31 columns]"
            ],
            "text/html": [
              "\n",
              "  <div id=\"df-3db4c613-dc6b-43cf-9b86-17efc7073c2b\">\n",
              "    <div class=\"colab-df-container\">\n",
              "      <div>\n",
              "<style scoped>\n",
              "    .dataframe tbody tr th:only-of-type {\n",
              "        vertical-align: middle;\n",
              "    }\n",
              "\n",
              "    .dataframe tbody tr th {\n",
              "        vertical-align: top;\n",
              "    }\n",
              "\n",
              "    .dataframe thead th {\n",
              "        text-align: right;\n",
              "    }\n",
              "</style>\n",
              "<table border=\"1\" class=\"dataframe\">\n",
              "  <thead>\n",
              "    <tr style=\"text-align: right;\">\n",
              "      <th></th>\n",
              "      <th>INNDAER 1</th>\n",
              "      <th>AM-LUTVLAS A</th>\n",
              "      <th>BOR VEKT A</th>\n",
              "      <th>DOLOM VEKT A</th>\n",
              "      <th>Kalivekt A</th>\n",
              "      <th>MGO VEKT</th>\n",
              "      <th>NPLUT-INND A</th>\n",
              "      <th>SALTVEKT TT W3401</th>\n",
              "      <th>Turtallsreg. Fuge A</th>\n",
              "      <th>Temperatur mikser A1</th>\n",
              "      <th>...</th>\n",
              "      <th>Turtallsreg. Fuge B</th>\n",
              "      <th>Temperatur mikser B1</th>\n",
              "      <th>Temperatur mikser B3</th>\n",
              "      <th>Temperatur T3402 inndamping væskelås</th>\n",
              "      <th>Væskelås B -&gt; MIX B</th>\n",
              "      <th>Væskelås B -&gt; MIX A</th>\n",
              "      <th>Væskelås A -&gt; MIX B</th>\n",
              "      <th>Væskelås A -&gt; MIX A</th>\n",
              "      <th>NPLUT-INND B</th>\n",
              "      <th>neoScattering</th>\n",
              "    </tr>\n",
              "    <tr>\n",
              "      <th>datetime</th>\n",
              "      <th></th>\n",
              "      <th></th>\n",
              "      <th></th>\n",
              "      <th></th>\n",
              "      <th></th>\n",
              "      <th></th>\n",
              "      <th></th>\n",
              "      <th></th>\n",
              "      <th></th>\n",
              "      <th></th>\n",
              "      <th></th>\n",
              "      <th></th>\n",
              "      <th></th>\n",
              "      <th></th>\n",
              "      <th></th>\n",
              "      <th></th>\n",
              "      <th></th>\n",
              "      <th></th>\n",
              "      <th></th>\n",
              "      <th></th>\n",
              "      <th></th>\n",
              "    </tr>\n",
              "  </thead>\n",
              "  <tbody>\n",
              "    <tr>\n",
              "      <th>2020-09-22 08:56:06</th>\n",
              "      <td>0.781092</td>\n",
              "      <td>26.519396</td>\n",
              "      <td>4.629490</td>\n",
              "      <td>0.015649</td>\n",
              "      <td>0.635937</td>\n",
              "      <td>0.095390</td>\n",
              "      <td>30.039738</td>\n",
              "      <td>40.477000</td>\n",
              "      <td>324.442160</td>\n",
              "      <td>41.287181</td>\n",
              "      <td>...</td>\n",
              "      <td>324.372223</td>\n",
              "      <td>113.223134</td>\n",
              "      <td>112.283353</td>\n",
              "      <td>184.272961</td>\n",
              "      <td>False</td>\n",
              "      <td>False</td>\n",
              "      <td>False</td>\n",
              "      <td>False</td>\n",
              "      <td>30.040635</td>\n",
              "      <td>2.327032</td>\n",
              "    </tr>\n",
              "    <tr>\n",
              "      <th>2020-09-22 08:56:16</th>\n",
              "      <td>0.780581</td>\n",
              "      <td>26.876701</td>\n",
              "      <td>4.629533</td>\n",
              "      <td>0.015649</td>\n",
              "      <td>0.644175</td>\n",
              "      <td>0.096653</td>\n",
              "      <td>29.894164</td>\n",
              "      <td>40.478285</td>\n",
              "      <td>324.216285</td>\n",
              "      <td>41.346787</td>\n",
              "      <td>...</td>\n",
              "      <td>324.632507</td>\n",
              "      <td>112.656876</td>\n",
              "      <td>111.810486</td>\n",
              "      <td>184.408853</td>\n",
              "      <td>False</td>\n",
              "      <td>True</td>\n",
              "      <td>False</td>\n",
              "      <td>False</td>\n",
              "      <td>30.086357</td>\n",
              "      <td>2.327000</td>\n",
              "    </tr>\n",
              "    <tr>\n",
              "      <th>2020-09-22 08:56:26</th>\n",
              "      <td>0.780071</td>\n",
              "      <td>26.841930</td>\n",
              "      <td>4.629576</td>\n",
              "      <td>0.015650</td>\n",
              "      <td>0.652414</td>\n",
              "      <td>0.097916</td>\n",
              "      <td>29.888657</td>\n",
              "      <td>40.479571</td>\n",
              "      <td>323.990409</td>\n",
              "      <td>42.271664</td>\n",
              "      <td>...</td>\n",
              "      <td>323.534198</td>\n",
              "      <td>112.142281</td>\n",
              "      <td>111.307810</td>\n",
              "      <td>184.532822</td>\n",
              "      <td>False</td>\n",
              "      <td>True</td>\n",
              "      <td>False</td>\n",
              "      <td>False</td>\n",
              "      <td>30.132080</td>\n",
              "      <td>2.004000</td>\n",
              "    </tr>\n",
              "    <tr>\n",
              "      <th>2020-09-22 08:56:36</th>\n",
              "      <td>0.779006</td>\n",
              "      <td>26.914482</td>\n",
              "      <td>4.629619</td>\n",
              "      <td>0.015650</td>\n",
              "      <td>0.660653</td>\n",
              "      <td>0.099179</td>\n",
              "      <td>29.815544</td>\n",
              "      <td>40.480857</td>\n",
              "      <td>325.125764</td>\n",
              "      <td>54.836514</td>\n",
              "      <td>...</td>\n",
              "      <td>324.473541</td>\n",
              "      <td>111.643585</td>\n",
              "      <td>110.777321</td>\n",
              "      <td>184.597794</td>\n",
              "      <td>False</td>\n",
              "      <td>True</td>\n",
              "      <td>False</td>\n",
              "      <td>False</td>\n",
              "      <td>30.117502</td>\n",
              "      <td>1.788500</td>\n",
              "    </tr>\n",
              "    <tr>\n",
              "      <th>2020-09-22 08:56:46</th>\n",
              "      <td>0.779640</td>\n",
              "      <td>26.974942</td>\n",
              "      <td>4.629654</td>\n",
              "      <td>0.015650</td>\n",
              "      <td>0.667518</td>\n",
              "      <td>0.100231</td>\n",
              "      <td>29.799110</td>\n",
              "      <td>40.481928</td>\n",
              "      <td>325.325733</td>\n",
              "      <td>79.778458</td>\n",
              "      <td>...</td>\n",
              "      <td>324.473541</td>\n",
              "      <td>111.238269</td>\n",
              "      <td>110.391874</td>\n",
              "      <td>184.642502</td>\n",
              "      <td>False</td>\n",
              "      <td>True</td>\n",
              "      <td>False</td>\n",
              "      <td>False</td>\n",
              "      <td>30.095304</td>\n",
              "      <td>1.991000</td>\n",
              "    </tr>\n",
              "  </tbody>\n",
              "</table>\n",
              "<p>5 rows × 31 columns</p>\n",
              "</div>\n",
              "      <button class=\"colab-df-convert\" onclick=\"convertToInteractive('df-3db4c613-dc6b-43cf-9b86-17efc7073c2b')\"\n",
              "              title=\"Convert this dataframe to an interactive table.\"\n",
              "              style=\"display:none;\">\n",
              "        \n",
              "  <svg xmlns=\"http://www.w3.org/2000/svg\" height=\"24px\"viewBox=\"0 0 24 24\"\n",
              "       width=\"24px\">\n",
              "    <path d=\"M0 0h24v24H0V0z\" fill=\"none\"/>\n",
              "    <path d=\"M18.56 5.44l.94 2.06.94-2.06 2.06-.94-2.06-.94-.94-2.06-.94 2.06-2.06.94zm-11 1L8.5 8.5l.94-2.06 2.06-.94-2.06-.94L8.5 2.5l-.94 2.06-2.06.94zm10 10l.94 2.06.94-2.06 2.06-.94-2.06-.94-.94-2.06-.94 2.06-2.06.94z\"/><path d=\"M17.41 7.96l-1.37-1.37c-.4-.4-.92-.59-1.43-.59-.52 0-1.04.2-1.43.59L10.3 9.45l-7.72 7.72c-.78.78-.78 2.05 0 2.83L4 21.41c.39.39.9.59 1.41.59.51 0 1.02-.2 1.41-.59l7.78-7.78 2.81-2.81c.8-.78.8-2.07 0-2.86zM5.41 20L4 18.59l7.72-7.72 1.47 1.35L5.41 20z\"/>\n",
              "  </svg>\n",
              "      </button>\n",
              "      \n",
              "  <style>\n",
              "    .colab-df-container {\n",
              "      display:flex;\n",
              "      flex-wrap:wrap;\n",
              "      gap: 12px;\n",
              "    }\n",
              "\n",
              "    .colab-df-convert {\n",
              "      background-color: #E8F0FE;\n",
              "      border: none;\n",
              "      border-radius: 50%;\n",
              "      cursor: pointer;\n",
              "      display: none;\n",
              "      fill: #1967D2;\n",
              "      height: 32px;\n",
              "      padding: 0 0 0 0;\n",
              "      width: 32px;\n",
              "    }\n",
              "\n",
              "    .colab-df-convert:hover {\n",
              "      background-color: #E2EBFA;\n",
              "      box-shadow: 0px 1px 2px rgba(60, 64, 67, 0.3), 0px 1px 3px 1px rgba(60, 64, 67, 0.15);\n",
              "      fill: #174EA6;\n",
              "    }\n",
              "\n",
              "    [theme=dark] .colab-df-convert {\n",
              "      background-color: #3B4455;\n",
              "      fill: #D2E3FC;\n",
              "    }\n",
              "\n",
              "    [theme=dark] .colab-df-convert:hover {\n",
              "      background-color: #434B5C;\n",
              "      box-shadow: 0px 1px 3px 1px rgba(0, 0, 0, 0.15);\n",
              "      filter: drop-shadow(0px 1px 2px rgba(0, 0, 0, 0.3));\n",
              "      fill: #FFFFFF;\n",
              "    }\n",
              "  </style>\n",
              "\n",
              "      <script>\n",
              "        const buttonEl =\n",
              "          document.querySelector('#df-3db4c613-dc6b-43cf-9b86-17efc7073c2b button.colab-df-convert');\n",
              "        buttonEl.style.display =\n",
              "          google.colab.kernel.accessAllowed ? 'block' : 'none';\n",
              "\n",
              "        async function convertToInteractive(key) {\n",
              "          const element = document.querySelector('#df-3db4c613-dc6b-43cf-9b86-17efc7073c2b');\n",
              "          const dataTable =\n",
              "            await google.colab.kernel.invokeFunction('convertToInteractive',\n",
              "                                                     [key], {});\n",
              "          if (!dataTable) return;\n",
              "\n",
              "          const docLinkHtml = 'Like what you see? Visit the ' +\n",
              "            '<a target=\"_blank\" href=https://colab.research.google.com/notebooks/data_table.ipynb>data table notebook</a>'\n",
              "            + ' to learn more about interactive tables.';\n",
              "          element.innerHTML = '';\n",
              "          dataTable['output_type'] = 'display_data';\n",
              "          await google.colab.output.renderOutput(dataTable, element);\n",
              "          const docLink = document.createElement('div');\n",
              "          docLink.innerHTML = docLinkHtml;\n",
              "          element.appendChild(docLink);\n",
              "        }\n",
              "      </script>\n",
              "    </div>\n",
              "  </div>\n",
              "  "
            ]
          },
          "metadata": {},
          "execution_count": 2
        }
      ],
      "source": [
        "data = pd.read_csv(\"/content/drive/MyDrive/ML/2020-9-22--550hours.csv\" , index_col=\"datetime\")\n",
        "data.head()"
      ]
    },
    {
      "cell_type": "markdown",
      "metadata": {
        "id": "3c3F_HxbLcRC"
      },
      "source": [
        "## Encode and Normalization"
      ]
    },
    {
      "cell_type": "markdown",
      "metadata": {
        "id": "SZMr5iBkNAHP"
      },
      "source": [
        "we will encode the columns with categorical data and normalize the data, to do so we use The MinMaxScaler function, it will encode and normalize the data in the same time\n"
      ]
    },
    {
      "cell_type": "code",
      "execution_count": null,
      "metadata": {
        "id": "B642GJWzarRh"
      },
      "outputs": [],
      "source": [
        "min_max_scaler = MinMaxScaler()\n",
        "F_data = pd.DataFrame(data = min_max_scaler.fit_transform(data), \n",
        "                  index = data.index, \n",
        "                  columns = data.columns)"
      ]
    },
    {
      "cell_type": "code",
      "execution_count": null,
      "metadata": {
        "colab": {
          "base_uri": "https://localhost:8080/",
          "height": 557
        },
        "id": "KWUukUs5ch4w",
        "outputId": "3bee197a-aaa1-49c0-d679-9c7c68d22d07"
      },
      "outputs": [
        {
          "output_type": "execute_result",
          "data": {
            "text/plain": [
              "                     INNDAER 1  AM-LUTVLAS A  BOR VEKT A  DOLOM VEKT A  \\\n",
              "datetime                                                                 \n",
              "2020-09-22 08:56:06   0.172092      0.327384    0.023149      0.001701   \n",
              "2020-09-22 08:56:16   0.170818      0.331793    0.023149      0.001701   \n",
              "2020-09-22 08:56:26   0.169544      0.331364    0.023149      0.001701   \n",
              "2020-09-22 08:56:36   0.166885      0.332260    0.023149      0.001701   \n",
              "2020-09-22 08:56:46   0.168470      0.333006    0.023150      0.001701   \n",
              "\n",
              "                     Kalivekt A  MGO VEKT  NPLUT-INND A  SALTVEKT TT W3401  \\\n",
              "datetime                                                                     \n",
              "2020-09-22 08:56:06    0.429059  0.224285      0.476186           0.708650   \n",
              "2020-09-22 08:56:16    0.429245  0.224566      0.473873           0.708693   \n",
              "2020-09-22 08:56:26    0.429432  0.224847      0.473786           0.708737   \n",
              "2020-09-22 08:56:36    0.429619  0.225129      0.472624           0.708781   \n",
              "2020-09-22 08:56:46    0.429775  0.225363      0.472363           0.708817   \n",
              "\n",
              "                     Turtallsreg. Fuge A  Temperatur mikser A1  ...  \\\n",
              "datetime                                                        ...   \n",
              "2020-09-22 08:56:06             0.570587              0.098196  ...   \n",
              "2020-09-22 08:56:16             0.570187              0.098573  ...   \n",
              "2020-09-22 08:56:26             0.569788              0.104410  ...   \n",
              "2020-09-22 08:56:36             0.571796              0.183718  ...   \n",
              "2020-09-22 08:56:46             0.572150              0.341149  ...   \n",
              "\n",
              "                     Turtallsreg. Fuge B  Temperatur mikser B1  \\\n",
              "datetime                                                         \n",
              "2020-09-22 08:56:06             0.752295              0.564865   \n",
              "2020-09-22 08:56:16             0.752902              0.561342   \n",
              "2020-09-22 08:56:26             0.750339              0.558140   \n",
              "2020-09-22 08:56:36             0.752531              0.555038   \n",
              "2020-09-22 08:56:46             0.752531              0.552516   \n",
              "\n",
              "                     Temperatur mikser B3  \\\n",
              "datetime                                    \n",
              "2020-09-22 08:56:06              0.560115   \n",
              "2020-09-22 08:56:16              0.557172   \n",
              "2020-09-22 08:56:26              0.554042   \n",
              "2020-09-22 08:56:36              0.550740   \n",
              "2020-09-22 08:56:46              0.548340   \n",
              "\n",
              "                     Temperatur T3402 inndamping væskelås  \\\n",
              "datetime                                                    \n",
              "2020-09-22 08:56:06                              0.959870   \n",
              "2020-09-22 08:56:16                              0.960739   \n",
              "2020-09-22 08:56:26                              0.961531   \n",
              "2020-09-22 08:56:36                              0.961946   \n",
              "2020-09-22 08:56:46                              0.962232   \n",
              "\n",
              "                     Væskelås B -> MIX B  Væskelås B -> MIX A  \\\n",
              "datetime                                                        \n",
              "2020-09-22 08:56:06                  0.0                  0.0   \n",
              "2020-09-22 08:56:16                  0.0                  1.0   \n",
              "2020-09-22 08:56:26                  0.0                  1.0   \n",
              "2020-09-22 08:56:36                  0.0                  1.0   \n",
              "2020-09-22 08:56:46                  0.0                  1.0   \n",
              "\n",
              "                     Væskelås A -> MIX B  Væskelås A -> MIX A  NPLUT-INND B  \\\n",
              "datetime                                                                      \n",
              "2020-09-22 08:56:06                  0.0                  0.0      0.396145   \n",
              "2020-09-22 08:56:16                  0.0                  0.0      0.396749   \n",
              "2020-09-22 08:56:26                  0.0                  0.0      0.397353   \n",
              "2020-09-22 08:56:36                  0.0                  0.0      0.397161   \n",
              "2020-09-22 08:56:46                  0.0                  0.0      0.396867   \n",
              "\n",
              "                     neoScattering  \n",
              "datetime                            \n",
              "2020-09-22 08:56:06       0.440067  \n",
              "2020-09-22 08:56:16       0.440064  \n",
              "2020-09-22 08:56:26       0.416463  \n",
              "2020-09-22 08:56:36       0.400716  \n",
              "2020-09-22 08:56:46       0.415513  \n",
              "\n",
              "[5 rows x 31 columns]"
            ],
            "text/html": [
              "\n",
              "  <div id=\"df-37559c57-3f52-43ae-9287-6e36de4c0ff5\">\n",
              "    <div class=\"colab-df-container\">\n",
              "      <div>\n",
              "<style scoped>\n",
              "    .dataframe tbody tr th:only-of-type {\n",
              "        vertical-align: middle;\n",
              "    }\n",
              "\n",
              "    .dataframe tbody tr th {\n",
              "        vertical-align: top;\n",
              "    }\n",
              "\n",
              "    .dataframe thead th {\n",
              "        text-align: right;\n",
              "    }\n",
              "</style>\n",
              "<table border=\"1\" class=\"dataframe\">\n",
              "  <thead>\n",
              "    <tr style=\"text-align: right;\">\n",
              "      <th></th>\n",
              "      <th>INNDAER 1</th>\n",
              "      <th>AM-LUTVLAS A</th>\n",
              "      <th>BOR VEKT A</th>\n",
              "      <th>DOLOM VEKT A</th>\n",
              "      <th>Kalivekt A</th>\n",
              "      <th>MGO VEKT</th>\n",
              "      <th>NPLUT-INND A</th>\n",
              "      <th>SALTVEKT TT W3401</th>\n",
              "      <th>Turtallsreg. Fuge A</th>\n",
              "      <th>Temperatur mikser A1</th>\n",
              "      <th>...</th>\n",
              "      <th>Turtallsreg. Fuge B</th>\n",
              "      <th>Temperatur mikser B1</th>\n",
              "      <th>Temperatur mikser B3</th>\n",
              "      <th>Temperatur T3402 inndamping væskelås</th>\n",
              "      <th>Væskelås B -&gt; MIX B</th>\n",
              "      <th>Væskelås B -&gt; MIX A</th>\n",
              "      <th>Væskelås A -&gt; MIX B</th>\n",
              "      <th>Væskelås A -&gt; MIX A</th>\n",
              "      <th>NPLUT-INND B</th>\n",
              "      <th>neoScattering</th>\n",
              "    </tr>\n",
              "    <tr>\n",
              "      <th>datetime</th>\n",
              "      <th></th>\n",
              "      <th></th>\n",
              "      <th></th>\n",
              "      <th></th>\n",
              "      <th></th>\n",
              "      <th></th>\n",
              "      <th></th>\n",
              "      <th></th>\n",
              "      <th></th>\n",
              "      <th></th>\n",
              "      <th></th>\n",
              "      <th></th>\n",
              "      <th></th>\n",
              "      <th></th>\n",
              "      <th></th>\n",
              "      <th></th>\n",
              "      <th></th>\n",
              "      <th></th>\n",
              "      <th></th>\n",
              "      <th></th>\n",
              "      <th></th>\n",
              "    </tr>\n",
              "  </thead>\n",
              "  <tbody>\n",
              "    <tr>\n",
              "      <th>2020-09-22 08:56:06</th>\n",
              "      <td>0.172092</td>\n",
              "      <td>0.327384</td>\n",
              "      <td>0.023149</td>\n",
              "      <td>0.001701</td>\n",
              "      <td>0.429059</td>\n",
              "      <td>0.224285</td>\n",
              "      <td>0.476186</td>\n",
              "      <td>0.708650</td>\n",
              "      <td>0.570587</td>\n",
              "      <td>0.098196</td>\n",
              "      <td>...</td>\n",
              "      <td>0.752295</td>\n",
              "      <td>0.564865</td>\n",
              "      <td>0.560115</td>\n",
              "      <td>0.959870</td>\n",
              "      <td>0.0</td>\n",
              "      <td>0.0</td>\n",
              "      <td>0.0</td>\n",
              "      <td>0.0</td>\n",
              "      <td>0.396145</td>\n",
              "      <td>0.440067</td>\n",
              "    </tr>\n",
              "    <tr>\n",
              "      <th>2020-09-22 08:56:16</th>\n",
              "      <td>0.170818</td>\n",
              "      <td>0.331793</td>\n",
              "      <td>0.023149</td>\n",
              "      <td>0.001701</td>\n",
              "      <td>0.429245</td>\n",
              "      <td>0.224566</td>\n",
              "      <td>0.473873</td>\n",
              "      <td>0.708693</td>\n",
              "      <td>0.570187</td>\n",
              "      <td>0.098573</td>\n",
              "      <td>...</td>\n",
              "      <td>0.752902</td>\n",
              "      <td>0.561342</td>\n",
              "      <td>0.557172</td>\n",
              "      <td>0.960739</td>\n",
              "      <td>0.0</td>\n",
              "      <td>1.0</td>\n",
              "      <td>0.0</td>\n",
              "      <td>0.0</td>\n",
              "      <td>0.396749</td>\n",
              "      <td>0.440064</td>\n",
              "    </tr>\n",
              "    <tr>\n",
              "      <th>2020-09-22 08:56:26</th>\n",
              "      <td>0.169544</td>\n",
              "      <td>0.331364</td>\n",
              "      <td>0.023149</td>\n",
              "      <td>0.001701</td>\n",
              "      <td>0.429432</td>\n",
              "      <td>0.224847</td>\n",
              "      <td>0.473786</td>\n",
              "      <td>0.708737</td>\n",
              "      <td>0.569788</td>\n",
              "      <td>0.104410</td>\n",
              "      <td>...</td>\n",
              "      <td>0.750339</td>\n",
              "      <td>0.558140</td>\n",
              "      <td>0.554042</td>\n",
              "      <td>0.961531</td>\n",
              "      <td>0.0</td>\n",
              "      <td>1.0</td>\n",
              "      <td>0.0</td>\n",
              "      <td>0.0</td>\n",
              "      <td>0.397353</td>\n",
              "      <td>0.416463</td>\n",
              "    </tr>\n",
              "    <tr>\n",
              "      <th>2020-09-22 08:56:36</th>\n",
              "      <td>0.166885</td>\n",
              "      <td>0.332260</td>\n",
              "      <td>0.023149</td>\n",
              "      <td>0.001701</td>\n",
              "      <td>0.429619</td>\n",
              "      <td>0.225129</td>\n",
              "      <td>0.472624</td>\n",
              "      <td>0.708781</td>\n",
              "      <td>0.571796</td>\n",
              "      <td>0.183718</td>\n",
              "      <td>...</td>\n",
              "      <td>0.752531</td>\n",
              "      <td>0.555038</td>\n",
              "      <td>0.550740</td>\n",
              "      <td>0.961946</td>\n",
              "      <td>0.0</td>\n",
              "      <td>1.0</td>\n",
              "      <td>0.0</td>\n",
              "      <td>0.0</td>\n",
              "      <td>0.397161</td>\n",
              "      <td>0.400716</td>\n",
              "    </tr>\n",
              "    <tr>\n",
              "      <th>2020-09-22 08:56:46</th>\n",
              "      <td>0.168470</td>\n",
              "      <td>0.333006</td>\n",
              "      <td>0.023150</td>\n",
              "      <td>0.001701</td>\n",
              "      <td>0.429775</td>\n",
              "      <td>0.225363</td>\n",
              "      <td>0.472363</td>\n",
              "      <td>0.708817</td>\n",
              "      <td>0.572150</td>\n",
              "      <td>0.341149</td>\n",
              "      <td>...</td>\n",
              "      <td>0.752531</td>\n",
              "      <td>0.552516</td>\n",
              "      <td>0.548340</td>\n",
              "      <td>0.962232</td>\n",
              "      <td>0.0</td>\n",
              "      <td>1.0</td>\n",
              "      <td>0.0</td>\n",
              "      <td>0.0</td>\n",
              "      <td>0.396867</td>\n",
              "      <td>0.415513</td>\n",
              "    </tr>\n",
              "  </tbody>\n",
              "</table>\n",
              "<p>5 rows × 31 columns</p>\n",
              "</div>\n",
              "      <button class=\"colab-df-convert\" onclick=\"convertToInteractive('df-37559c57-3f52-43ae-9287-6e36de4c0ff5')\"\n",
              "              title=\"Convert this dataframe to an interactive table.\"\n",
              "              style=\"display:none;\">\n",
              "        \n",
              "  <svg xmlns=\"http://www.w3.org/2000/svg\" height=\"24px\"viewBox=\"0 0 24 24\"\n",
              "       width=\"24px\">\n",
              "    <path d=\"M0 0h24v24H0V0z\" fill=\"none\"/>\n",
              "    <path d=\"M18.56 5.44l.94 2.06.94-2.06 2.06-.94-2.06-.94-.94-2.06-.94 2.06-2.06.94zm-11 1L8.5 8.5l.94-2.06 2.06-.94-2.06-.94L8.5 2.5l-.94 2.06-2.06.94zm10 10l.94 2.06.94-2.06 2.06-.94-2.06-.94-.94-2.06-.94 2.06-2.06.94z\"/><path d=\"M17.41 7.96l-1.37-1.37c-.4-.4-.92-.59-1.43-.59-.52 0-1.04.2-1.43.59L10.3 9.45l-7.72 7.72c-.78.78-.78 2.05 0 2.83L4 21.41c.39.39.9.59 1.41.59.51 0 1.02-.2 1.41-.59l7.78-7.78 2.81-2.81c.8-.78.8-2.07 0-2.86zM5.41 20L4 18.59l7.72-7.72 1.47 1.35L5.41 20z\"/>\n",
              "  </svg>\n",
              "      </button>\n",
              "      \n",
              "  <style>\n",
              "    .colab-df-container {\n",
              "      display:flex;\n",
              "      flex-wrap:wrap;\n",
              "      gap: 12px;\n",
              "    }\n",
              "\n",
              "    .colab-df-convert {\n",
              "      background-color: #E8F0FE;\n",
              "      border: none;\n",
              "      border-radius: 50%;\n",
              "      cursor: pointer;\n",
              "      display: none;\n",
              "      fill: #1967D2;\n",
              "      height: 32px;\n",
              "      padding: 0 0 0 0;\n",
              "      width: 32px;\n",
              "    }\n",
              "\n",
              "    .colab-df-convert:hover {\n",
              "      background-color: #E2EBFA;\n",
              "      box-shadow: 0px 1px 2px rgba(60, 64, 67, 0.3), 0px 1px 3px 1px rgba(60, 64, 67, 0.15);\n",
              "      fill: #174EA6;\n",
              "    }\n",
              "\n",
              "    [theme=dark] .colab-df-convert {\n",
              "      background-color: #3B4455;\n",
              "      fill: #D2E3FC;\n",
              "    }\n",
              "\n",
              "    [theme=dark] .colab-df-convert:hover {\n",
              "      background-color: #434B5C;\n",
              "      box-shadow: 0px 1px 3px 1px rgba(0, 0, 0, 0.15);\n",
              "      filter: drop-shadow(0px 1px 2px rgba(0, 0, 0, 0.3));\n",
              "      fill: #FFFFFF;\n",
              "    }\n",
              "  </style>\n",
              "\n",
              "      <script>\n",
              "        const buttonEl =\n",
              "          document.querySelector('#df-37559c57-3f52-43ae-9287-6e36de4c0ff5 button.colab-df-convert');\n",
              "        buttonEl.style.display =\n",
              "          google.colab.kernel.accessAllowed ? 'block' : 'none';\n",
              "\n",
              "        async function convertToInteractive(key) {\n",
              "          const element = document.querySelector('#df-37559c57-3f52-43ae-9287-6e36de4c0ff5');\n",
              "          const dataTable =\n",
              "            await google.colab.kernel.invokeFunction('convertToInteractive',\n",
              "                                                     [key], {});\n",
              "          if (!dataTable) return;\n",
              "\n",
              "          const docLinkHtml = 'Like what you see? Visit the ' +\n",
              "            '<a target=\"_blank\" href=https://colab.research.google.com/notebooks/data_table.ipynb>data table notebook</a>'\n",
              "            + ' to learn more about interactive tables.';\n",
              "          element.innerHTML = '';\n",
              "          dataTable['output_type'] = 'display_data';\n",
              "          await google.colab.output.renderOutput(dataTable, element);\n",
              "          const docLink = document.createElement('div');\n",
              "          docLink.innerHTML = docLinkHtml;\n",
              "          element.appendChild(docLink);\n",
              "        }\n",
              "      </script>\n",
              "    </div>\n",
              "  </div>\n",
              "  "
            ]
          },
          "metadata": {},
          "execution_count": 4
        }
      ],
      "source": [
        "F_data.head()"
      ]
    },
    {
      "cell_type": "markdown",
      "metadata": {
        "id": "jC_je9k-M1GI"
      },
      "source": [
        "## Create inputs and outputs"
      ]
    },
    {
      "cell_type": "code",
      "execution_count": null,
      "metadata": {
        "id": "InPR983Cenm1"
      },
      "outputs": [],
      "source": [
        "inputs  = F_data.iloc[:,:] # read all data as input\n",
        "outputs = F_data.iloc[:,-1] # Use the last Columns 'neoScattering' as output"
      ]
    },
    {
      "cell_type": "code",
      "execution_count": null,
      "metadata": {
        "colab": {
          "base_uri": "https://localhost:8080/"
        },
        "id": "Xv2vK20mhbm0",
        "outputId": "cc435d41-e00c-43a8-95f5-59179bf72e29"
      },
      "outputs": [
        {
          "output_type": "stream",
          "name": "stdout",
          "text": [
            "training data size :  (124828, 31) (124828,)\n",
            "Validation data size :  (53498, 31) (53498,)\n",
            "Testing data size :  (19814, 31) (19814,)\n"
          ]
        }
      ],
      "source": [
        "trsize = int(len(inputs)*0.9) # the size of training Data\n",
        "ts_size = len(inputs)-trsize  # the size of testing Data\n",
        "\n",
        "Trai_Inp = inputs[0:int(trsize*0.7)]   \n",
        "Tr_A_Out = outputs[0:int(trsize*0.7)]\n",
        "\n",
        "valid_inp = inputs[int(trsize*0.7):trsize]\n",
        "valid_out = outputs[int(trsize*0.7):trsize]\n",
        "\n",
        "Test_Inp = inputs[trsize:]\n",
        "Ts_A_out = outputs[trsize:]\n",
        "\n",
        "print('training data size : ',Trai_Inp.shape,Tr_A_Out.shape)\n",
        "print('Validation data size : ',valid_inp.shape,valid_out.shape)\n",
        "print('Testing data size : ',Test_Inp.shape,Ts_A_out.shape)"
      ]
    },
    {
      "cell_type": "code",
      "execution_count": null,
      "metadata": {
        "id": "wkgiBFC6iRN_"
      },
      "outputs": [],
      "source": [
        "def create_dataset(data_in,out, time_step = 10):\n",
        "\t\"\"\"\n",
        "\tthis function will prepare the data to be ready to feed to The Neural network, \n",
        "\tit will use 10 previous inputs records and use the 11th  neoScattering records as output\n",
        "\t\"\"\"\n",
        "\tdataX, dataY = [], []\n",
        "\tfor i in range(len(out)-time_step-2):\n",
        "\t\t  \n",
        "\t\t  x = data_in[i:(i+time_step)] ###i=0, 0,1,2,3-----99   100\n",
        "\t\t  y = out[i+time_step+1]\n",
        "\t\n",
        "\t\t  dataX.append(x)\n",
        "\t\t  dataY.append(y)\n",
        "\t\n",
        "\treturn np.array(dataX), np.array(dataY)"
      ]
    },
    {
      "cell_type": "code",
      "execution_count": null,
      "metadata": {
        "id": "l-vMFMK6iUq3"
      },
      "outputs": [],
      "source": [
        "inpTr ,Out_tr  = create_dataset(Trai_Inp , Tr_A_Out,  time_step = 10)\n",
        "inpVal,out_val = create_dataset(valid_inp, valid_out, time_step = 10)\n",
        "inpTs ,Out_ts  = create_dataset(Test_Inp , Ts_A_out,  time_step = 10)"
      ]
    },
    {
      "cell_type": "markdown",
      "metadata": {
        "id": "MYSXiXMyL96Q"
      },
      "source": [
        "## Build Model"
      ]
    },
    {
      "cell_type": "markdown",
      "metadata": {
        "id": "e0m88q8VMMXR"
      },
      "source": [
        "### Model Architecture"
      ]
    },
    {
      "cell_type": "markdown",
      "metadata": {
        "id": "qIzZ2Wwzy-mj"
      },
      "source": [
        "in order to get the best results i used the model in the article [here](https://arxiv.org/pdf/2105.00707.pdf) "
      ]
    },
    {
      "cell_type": "code",
      "execution_count": null,
      "metadata": {
        "id": "OSqQ1Eg8MKQ6"
      },
      "outputs": [],
      "source": [
        "n_timesteps, n_features = inpTr.shape[1], inpTr.shape[2]\n",
        "inp = Input(shape=(n_timesteps,n_features,1),name='inp')\n",
        "feat = Conv1D(filters = 16, kernel_size = 1, strides = 1, padding = 'same', use_bias = False, activation ='relu')(inp)\n",
        "\n",
        "x1 = Conv1D(filters = 16, kernel_size = 1, strides = 1, padding = 'same', use_bias = False,activation ='relu')(feat)\n",
        "x2 = Conv1D(filters = 16, kernel_size = 2, strides = 1, padding = 'same', use_bias = False,activation ='relu')(feat)\n",
        "x3 = Conv1D(filters = 16, kernel_size = 3, strides = 1, padding = 'same', use_bias = False,activation ='relu')(feat)\n",
        "\n",
        "out = add([feat,x1,x2,x3])\n",
        "\n",
        "out = Conv2D(filters = 32, kernel_size = 1, strides = 1, padding = 'same', use_bias = False,activation='relu')(out)\n",
        "out = Conv2D(filters=64, kernel_size=1,padding='same',activation='relu')(out)\n",
        "\n",
        "out2= Conv2D(filters=64, kernel_size=1,padding='same',activation='relu')(inp)\n",
        "out = add([out2,out])\n",
        "\n",
        "out = Flatten()(out)\n",
        "out = tf.keras.layers.Reshape((19840,1))(out)\n",
        "\n",
        "\n",
        "out = GRU(50,activity_regularizer=l2(0.0000001))(out)\n",
        "out = Dense(50) (out)\n",
        "\n",
        "out = Dense(100) (out)\n",
        "\n",
        "out = tf.keras.layers.Dropout(0.3)(out)\n",
        "out = Dense(20) (out)\n",
        "\n",
        "out = tf.keras.layers.Dropout(0.1)(out)\n",
        "out = Dense(1,activation = 'relu') (out)"
      ]
    },
    {
      "cell_type": "markdown",
      "metadata": {
        "id": "BSMw34GFMQlA"
      },
      "source": [
        "### Model compile, loss and plot"
      ]
    },
    {
      "cell_type": "code",
      "execution_count": null,
      "metadata": {
        "colab": {
          "base_uri": "https://localhost:8080/"
        },
        "id": "KBjoyqD1MplF",
        "outputId": "469b062e-7a14-4f3b-d438-ac4a769b44f6"
      },
      "outputs": [
        {
          "output_type": "stream",
          "name": "stdout",
          "text": [
            "Model: \"model\"\n",
            "__________________________________________________________________________________________________\n",
            " Layer (type)                   Output Shape         Param #     Connected to                     \n",
            "==================================================================================================\n",
            " inp (InputLayer)               [(None, 10, 31, 1)]  0           []                               \n",
            "                                                                                                  \n",
            " conv1d (Conv1D)                (None, 10, 31, 16)   16          ['inp[0][0]']                    \n",
            "                                                                                                  \n",
            " conv1d_1 (Conv1D)              (None, 10, 31, 16)   256         ['conv1d[0][0]']                 \n",
            "                                                                                                  \n",
            " conv1d_2 (Conv1D)              (None, 10, 31, 16)   512         ['conv1d[0][0]']                 \n",
            "                                                                                                  \n",
            " conv1d_3 (Conv1D)              (None, 10, 31, 16)   768         ['conv1d[0][0]']                 \n",
            "                                                                                                  \n",
            " add (Add)                      (None, 10, 31, 16)   0           ['conv1d[0][0]',                 \n",
            "                                                                  'conv1d_1[0][0]',               \n",
            "                                                                  'conv1d_2[0][0]',               \n",
            "                                                                  'conv1d_3[0][0]']               \n",
            "                                                                                                  \n",
            " conv2d (Conv2D)                (None, 10, 31, 32)   512         ['add[0][0]']                    \n",
            "                                                                                                  \n",
            " conv2d_2 (Conv2D)              (None, 10, 31, 64)   128         ['inp[0][0]']                    \n",
            "                                                                                                  \n",
            " conv2d_1 (Conv2D)              (None, 10, 31, 64)   2112        ['conv2d[0][0]']                 \n",
            "                                                                                                  \n",
            " add_1 (Add)                    (None, 10, 31, 64)   0           ['conv2d_2[0][0]',               \n",
            "                                                                  'conv2d_1[0][0]']               \n",
            "                                                                                                  \n",
            " flatten (Flatten)              (None, 19840)        0           ['add_1[0][0]']                  \n",
            "                                                                                                  \n",
            " reshape (Reshape)              (None, 19840, 1)     0           ['flatten[0][0]']                \n",
            "                                                                                                  \n",
            " gru (GRU)                      (None, 50)           7950        ['reshape[0][0]']                \n",
            "                                                                                                  \n",
            " dense (Dense)                  (None, 50)           2550        ['gru[0][0]']                    \n",
            "                                                                                                  \n",
            " dense_1 (Dense)                (None, 100)          5100        ['dense[0][0]']                  \n",
            "                                                                                                  \n",
            " dropout (Dropout)              (None, 100)          0           ['dense_1[0][0]']                \n",
            "                                                                                                  \n",
            " dense_2 (Dense)                (None, 20)           2020        ['dropout[0][0]']                \n",
            "                                                                                                  \n",
            " dropout_1 (Dropout)            (None, 20)           0           ['dense_2[0][0]']                \n",
            "                                                                                                  \n",
            " dense_3 (Dense)                (None, 1)            21          ['dropout_1[0][0]']              \n",
            "                                                                                                  \n",
            "==================================================================================================\n",
            "Total params: 21,945\n",
            "Trainable params: 21,945\n",
            "Non-trainable params: 0\n",
            "__________________________________________________________________________________________________\n"
          ]
        }
      ],
      "source": [
        "model = Model(inputs = [inp] ,outputs = [out]) # \n",
        "model.compile(loss='mse', optimizer='adam', metrics=['mse',\"mae\"])\n",
        "model.summary()"
      ]
    },
    {
      "cell_type": "markdown",
      "metadata": {
        "id": "smEwhoqmMWnY"
      },
      "source": [
        "## Train and evaluation the model"
      ]
    },
    {
      "cell_type": "markdown",
      "metadata": {
        "id": "fEw4DM0yMhOM"
      },
      "source": [
        "### Train"
      ]
    },
    {
      "cell_type": "code",
      "execution_count": null,
      "metadata": {
        "colab": {
          "base_uri": "https://localhost:8080/"
        },
        "id": "PT-S98AaMq2y",
        "outputId": "75cd98c7-c108-4180-8c73-bd38175f9d98"
      },
      "outputs": [
        {
          "output_type": "stream",
          "name": "stdout",
          "text": [
            "Epoch 1/2\n",
            "488/488 [==============================] - 455s 907ms/step - loss: 0.0038 - mse: 0.0038 - mae: 0.0409 - val_loss: 6.6317e-04 - val_mse: 6.6317e-04 - val_mae: 0.0183\n",
            "Epoch 2/2\n",
            "488/488 [==============================] - 410s 840ms/step - loss: 0.0011 - mse: 0.0011 - mae: 0.0247 - val_loss: 5.4012e-04 - val_mse: 5.4012e-04 - val_mae: 0.0159\n"
          ]
        },
        {
          "output_type": "execute_result",
          "data": {
            "text/plain": [
              "<keras.callbacks.History at 0x7fdd2070f3d0>"
            ]
          },
          "metadata": {},
          "execution_count": 11
        }
      ],
      "source": [
        "model.fit(inpTr ,Out_tr,validation_data=(inpVal,out_val),epochs = 2, batch_size=256, verbose=1)"
      ]
    },
    {
      "cell_type": "markdown",
      "metadata": {
        "id": "ZxlrAVToMkXU"
      },
      "source": [
        "### Evaluation"
      ]
    },
    {
      "cell_type": "markdown",
      "metadata": {
        "id": "_6lE6EnSLqwG"
      },
      "source": [
        "we will pick randomly 100 inputs and predict thier outputs then plot the result with the ground truth"
      ]
    },
    {
      "cell_type": "code",
      "execution_count": null,
      "metadata": {
        "id": "AzlkaUQKJwee"
      },
      "outputs": [],
      "source": [
        "Size = 100 \n",
        "ix     = np.random.randint(0, inpTs.shape[0], Size)\n",
        "X      = inpTs[ix]  # The 100 random inputs\n",
        "Y = np.expand_dims(Out_ts[ix],1) # The ground truth Y of the random inputs"
      ]
    },
    {
      "cell_type": "markdown",
      "metadata": {
        "id": "L90mUeQKMuqR"
      },
      "source": [
        "### Prediction using The model and reshape to perform inverse Minmax transform\n",
        "predicted_results = np.reshape(model.predict(X),(Size,1))"
      ]
    },
    {
      "cell_type": "code",
      "source": [
        "predicted_results = np.reshape(model.predict(X),(Size,1))"
      ],
      "metadata": {
        "id": "UnZfLPr31A5d"
      },
      "execution_count": null,
      "outputs": []
    },
    {
      "cell_type": "code",
      "execution_count": null,
      "metadata": {
        "id": "b5Lvs1jTQG06",
        "colab": {
          "base_uri": "https://localhost:8080/"
        },
        "outputId": "b5f045ed-dbf4-4993-93b9-e44af8b6498b"
      },
      "outputs": [
        {
          "output_type": "execute_result",
          "data": {
            "text/plain": [
              "MinMaxScaler()"
            ]
          },
          "metadata": {},
          "execution_count": 13
        }
      ],
      "source": [
        "Inverse = MinMaxScaler() # inverse minmax transform for Y\n",
        "Inverse.fit(np.expand_dims(data['neoScattering'],-1))"
      ]
    },
    {
      "cell_type": "code",
      "execution_count": null,
      "metadata": {
        "id": "CBxzOMkZHM7J",
        "colab": {
          "base_uri": "https://localhost:8080/",
          "height": 265
        },
        "outputId": "f296dd6d-b668-457d-a389-2667eef58fac"
      },
      "outputs": [
        {
          "output_type": "display_data",
          "data": {
            "text/plain": [
              "<Figure size 432x288 with 1 Axes>"
            ],
            "image/png": "[encoded data removed]"
          },
          "metadata": {
            "needs_background": "light"
          }
        }
      ],
      "source": [
        "\n",
        "plt.plot(Inverse.inverse_transform(Y),'g--', label=\"original\")\n",
        "plt.plot(Inverse.inverse_transform(predicted_results), label = \"Predicted\")\n",
        "plt.legend()\n",
        "plt.show()"
      ]
    },
    {
      "cell_type": "code",
      "execution_count": null,
      "metadata": {
        "id": "HjmHmxypHdpF",
        "colab": {
          "base_uri": "https://localhost:8080/"
        },
        "outputId": "2a488702-5807-4ae1-bded-cea7b1f10939"
      },
      "outputs": [
        {
          "output_type": "stream",
          "name": "stdout",
          "text": [
            "Mean squered error = 0.0008682832703925669\n",
            "Mean Absolute error = 0.016757525503635406\n"
          ]
        }
      ],
      "source": [
        "mse = tf.keras.losses.MeanSquaredError() \n",
        "mae = tf.keras.losses.MeanAbsoluteError()\n",
        "print(f\"Mean squered error = {mse(predicted_results,Y)}\")\n",
        "print(f\"Mean Absolute error = {mae(predicted_results,Y)}\")"
      ]
    },
    {
      "cell_type": "code",
      "execution_count": null,
      "metadata": {
        "id": "_iMv8X3zs2GE"
      },
      "outputs": [],
      "source": [
        ""
      ]
    }
  ],
  "metadata": {
    "accelerator": "GPU",
    "colab": {
      "name": "amarjaganjac_Model_Window_10_previous_records_GRU.ipynb",
      "provenance": [],
      "collapsed_sections": [],
      "include_colab_link": true
    },
    "kernelspec": {
      "display_name": "Python 3",
      "language": "python",
      "name": "python3"
    },
    "language_info": {
      "codemirror_mode": {
        "name": "ipython",
        "version": 3
      },
      "file_extension": ".py",
      "mimetype": "text/x-python",
      "name": "python",
      "nbconvert_exporter": "python",
      "pygments_lexer": "ipython3",
      "version": "3.8.5"
    }
  },
  "nbformat": 4,
  "nbformat_minor": 0
}